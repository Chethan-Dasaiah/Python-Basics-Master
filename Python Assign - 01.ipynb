{
 "cells": [
  {
   "cell_type": "markdown",
   "metadata": {},
   "source": [
    "# Task 1:#"
   ]
  },
  {
   "cell_type": "markdown",
   "metadata": {},
   "source": [
    "01. Install Jupyter notebook and run the first program and share the screenshot of the output. "
   ]
  },
  {
   "cell_type": "code",
   "execution_count": 1,
   "metadata": {},
   "outputs": [
    {
     "name": "stdout",
     "output_type": "stream",
     "text": [
      "Hello this is my first program!\n"
     ]
    }
   ],
   "source": [
    "print(\"Hello this is my first program!\")"
   ]
  },
  {
   "cell_type": "markdown",
   "metadata": {},
   "source": [
    "02. Write a program which will find all such numbers which are divisible by 7 but are not a multiple of 5, between 2000 and 3200 (both included). The numbers obtained should be printed in a comma-separated sequence on a single line."
   ]
  },
  {
   "cell_type": "code",
   "execution_count": 3,
   "metadata": {},
   "outputs": [
    {
     "name": "stdout",
     "output_type": "stream",
     "text": [
      "numbers which are divisible by 7 but are not a multiple of 5, between 2000 and 3200 are \n",
      "\n",
      " [2002, 2009, 2016, 2023, 2037, 2044, 2051, 2058, 2072, 2079, 2086, 2093, 2107, 2114, 2121, 2128, 2142, 2149, 2156, 2163, 2177, 2184, 2191, 2198, 2212, 2219, 2226, 2233, 2247, 2254, 2261, 2268, 2282, 2289, 2296, 2303, 2317, 2324, 2331, 2338, 2352, 2359, 2366, 2373, 2387, 2394, 2401, 2408, 2422, 2429, 2436, 2443, 2457, 2464, 2471, 2478, 2492, 2499, 2506, 2513, 2527, 2534, 2541, 2548, 2562, 2569, 2576, 2583, 2597, 2604, 2611, 2618, 2632, 2639, 2646, 2653, 2667, 2674, 2681, 2688, 2702, 2709, 2716, 2723, 2737, 2744, 2751, 2758, 2772, 2779, 2786, 2793, 2807, 2814, 2821, 2828, 2842, 2849, 2856, 2863, 2877, 2884, 2891, 2898, 2912, 2919, 2926, 2933, 2947, 2954, 2961, 2968, 2982, 2989, 2996, 3003, 3017, 3024, 3031, 3038, 3052, 3059, 3066, 3073, 3087, 3094, 3101, 3108, 3122, 3129, 3136, 3143, 3157, 3164, 3171, 3178, 3192, 3199]\n"
     ]
    }
   ],
   "source": [
    "get_num_list = []\n",
    "for i in range (2000,3201) :\n",
    "    if (i % 7  == 0) &  (i % 5 != 0) :\n",
    "        get_num_list.append(i)\n",
    "print ( \"numbers which are divisible by 7 but are not a multiple of 5, between 2000 and 3200 are \\n\\n {}\".format(get_num_list))    \n",
    "            "
   ]
  },
  {
   "cell_type": "markdown",
   "metadata": {},
   "source": [
    "03. Write a Python program to accept the user's first and last name and then getting them printed in the the reverse order with a space between first name and last name."
   ]
  },
  {
   "cell_type": "code",
   "execution_count": 1,
   "metadata": {},
   "outputs": [
    {
     "name": "stdout",
     "output_type": "stream",
     "text": [
      "Enter First Name :Chethan\n",
      "Enter Last Name :Dasaiah\n",
      " First and Last name in reverse order is : nahtehC haiasaD\n"
     ]
    }
   ],
   "source": [
    "f_name = input (\"Enter First Name :\")\n",
    "l_name = input (\"Enter Last Name :\")\n",
    "f_name = f_name[::-1]\n",
    "l_name = l_name[::-1]\n",
    "print (\" First and Last name in reverse order is : {fname} {lname}\".format(fname = f_name, lname = l_name  ) )"
   ]
  },
  {
   "cell_type": "markdown",
   "metadata": {},
   "source": [
    "04. Write a Python program to find the volume of a sphere with diameter 12 cm. Formula: V=4/3 * π * r 3"
   ]
  },
  {
   "cell_type": "code",
   "execution_count": 3,
   "metadata": {},
   "outputs": [
    {
     "name": "stdout",
     "output_type": "stream",
     "text": [
      "Volume of Sphere when diameter : 12 is 904.7786842338603\n"
     ]
    }
   ],
   "source": [
    "from math import pi\n",
    "diameter_assumed = 12\n",
    "radius = diameter_assumed/2\n",
    "Volume_of_Sphere = 4 / 3 * pi * radius**3\n",
    "print(\"Volume of Sphere when diameter : {} is {}\".format(diameter_assumed,Volume_of_Sphere))"
   ]
  },
  {
   "cell_type": "markdown",
   "metadata": {},
   "source": [
    "# Task 2:"
   ]
  },
  {
   "cell_type": "markdown",
   "metadata": {},
   "source": [
    "01. Write a program which accepts a sequence of comma-separated numbers from console and generate a list."
   ]
  },
  {
   "cell_type": "code",
   "execution_count": 5,
   "metadata": {},
   "outputs": [
    {
     "name": "stdout",
     "output_type": "stream",
     "text": [
      "Enter the value with comma seperatedme,u,us\n",
      "List generated from input is ['me', 'u', 'us'] \n"
     ]
    }
   ],
   "source": [
    "input_values = input(\"Enter the value with comma seperated\")\n",
    "list_from_input = input_values.split(',')\n",
    "type(list_from_input)\n",
    "print(\"List generated from input is {} \".format(list_from_input))"
   ]
  },
  {
   "cell_type": "markdown",
   "metadata": {},
   "source": [
    "02. Create the below pattern using nested for loop in Python.\n",
    "\n",
    "\n",
    "    *\n",
    "    * *\n",
    "    * * *\n",
    "    * * * *\n",
    "    * * * * *\n",
    "    * * * *\n",
    "    * * *\n",
    "    * *\n",
    "    *\n"
   ]
  },
  {
   "cell_type": "code",
   "execution_count": 6,
   "metadata": {},
   "outputs": [
    {
     "name": "stdout",
     "output_type": "stream",
     "text": [
      " * \n",
      " *  * \n",
      " *  *  * \n",
      " *  *  *  * \n",
      " *  *  *  *  * \n",
      " *  *  *  * \n",
      " *  *  * \n",
      " *  * \n",
      " * \n"
     ]
    }
   ],
   "source": [
    "no_of_rows = 10\n",
    "for outer in range(1,no_of_rows):\n",
    "    output = ''\n",
    "    increment = 0\n",
    "    if outer <= (no_of_rows/2):\n",
    "        for inner in range(0, outer):\n",
    "            output = output +  \" * \"\n",
    "        print(output)\n",
    "    else :\n",
    "        for inner in range(0, no_of_rows - outer):\n",
    "            output = output +  \" * \"\n",
    "        print(output)"
   ]
  },
  {
   "cell_type": "markdown",
   "metadata": {},
   "source": [
    "03. Write a Python program to reverse a word after accepting the input from the user.\n",
    "\n",
    "    Sample Output: Input word: AcadGild Output: dilGdacA\n"
   ]
  },
  {
   "cell_type": "code",
   "execution_count": 7,
   "metadata": {},
   "outputs": [
    {
     "name": "stdout",
     "output_type": "stream",
     "text": [
      "Enter a word : asdlkasd\n",
      "Reverse string of entered word asdlkasd is : dsakldsa\n"
     ]
    }
   ],
   "source": [
    "input_value = input (\"Enter a word : \")\n",
    "reverse_value = input_value[::-1]\n",
    "print(\"Reverse string of entered word {} is : {}\".format(input_value,reverse_value))"
   ]
  },
  {
   "attachments": {},
   "cell_type": "markdown",
   "metadata": {},
   "source": [
    "04. Write a Python Program to print the given string in the format specified in the sample output.\n",
    "\n",
    "    WE, THE PEOPLE OF INDIA, having solemnly resolved to constitute India into a SOVEREIGN, SOCIALIST, SECULAR, DEMOCRATIC REPUBLIC and to secure to all its citizens\n",
    "\n",
    "*Sample Output:*\n",
    "\n",
    "<pre>\n",
    "WE, THE PEOPLE OF INDIA,\n",
    "    having solemnly resolved to constitute India into a SOVEREIGN, !\n",
    "        SOCIALIST, SECULAR, DEMOCRATIC REPUBLIC\n",
    "          and to secure to all its citizens  \n",
    "</pre>\n"
   ]
  },
  {
   "cell_type": "code",
   "execution_count": 8,
   "metadata": {},
   "outputs": [
    {
     "name": "stdout",
     "output_type": "stream",
     "text": [
      "WE,  THE PEOPLE OF INDIA,\n",
      "\t having solemnly resolved to constitute India into a SOVEREIGN, !\n",
      "\t\t SOCIALIST,  SECULAR, DEMOCRATIC REPUBLIC\n",
      "\t\t  and to secure to all its citizens\n"
     ]
    }
   ],
   "source": [
    "Str_in = \"WE, THE PEOPLE OF INDIA, having solemnly resolved to constitute India into a SOVEREIGN, SOCIALIST, SECULAR, DEMOCRATIC REPUBLIC and to secure to all its citizens\"\n",
    "li_comma_split = Str_in.split(\",\")\n",
    "sub_split = li_comma_split[5].split()\n",
    "lastline = ' '.join(sub_split[2:])\n",
    "print(str(li_comma_split[0]) +\", \" + str(li_comma_split[1]) + \",\\n\\t\" + str(li_comma_split[2]) \n",
    "      + \", !\\n\\t\\t\"+ str(li_comma_split[3]) +\", \"+ li_comma_split[4] + \", \" + sub_split[0] + \" \" + sub_split[1]\n",
    "      + \"\\n\\t\\t  \" + lastline)"
   ]
  },
  {
   "cell_type": "markdown",
   "metadata": {},
   "source": [
    "                **or**"
   ]
  },
  {
   "cell_type": "code",
   "execution_count": 9,
   "metadata": {},
   "outputs": [
    {
     "name": "stdout",
     "output_type": "stream",
     "text": [
      "Prining directly \n",
      "\n",
      "\n",
      "WE,  THE PEOPLE OF INDIA,\n",
      "        having solemnly resolved to constitute India into a SOVEREIGN, !\n",
      "                SOCIALIST,  SECULAR, DEMOCRATIC REPUBLIC\n",
      "                  and to secure to all its citizens\n"
     ]
    }
   ],
   "source": [
    "print (\"Prining directly \\n\\n\")\n",
    "print('''WE,  THE PEOPLE OF INDIA,\n",
    "        having solemnly resolved to constitute India into a SOVEREIGN, !\n",
    "                SOCIALIST,  SECULAR, DEMOCRATIC REPUBLIC\n",
    "                  and to secure to all its citizens''')"
   ]
  },
  {
   "cell_type": "code",
   "execution_count": null,
   "metadata": {},
   "outputs": [],
   "source": []
  }
 ],
 "metadata": {
  "kernelspec": {
   "display_name": "Python 3",
   "language": "python",
   "name": "python3"
  },
  "language_info": {
   "codemirror_mode": {
    "name": "ipython",
    "version": 3
   },
   "file_extension": ".py",
   "mimetype": "text/x-python",
   "name": "python",
   "nbconvert_exporter": "python",
   "pygments_lexer": "ipython3",
   "version": "3.7.3"
  }
 },
 "nbformat": 4,
 "nbformat_minor": 2
}
