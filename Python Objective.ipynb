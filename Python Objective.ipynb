{
 "cells": [
  {
   "cell_type": "markdown",
   "metadata": {},
   "source": [
    "# PYTHON Objective Practise Questions"
   ]
  },
  {
   "cell_type": "markdown",
   "metadata": {},
   "source": [
    "Q1. How can we create an iterator object from a list? <br> \n",
    "\n",
    "a) Bypassing the given list to the iter() function<br>\n",
    "b) By using a for a loop.<br>\n",
    "c) By using a while loop.<br>\n",
    "d) You cannot create an iterable object"
   ]
  },
  {
   "cell_type": "markdown",
   "metadata": {},
   "source": [
    "**Ans : Bypassing the given list to the iter() function**"
   ]
  },
  {
   "cell_type": "markdown",
   "metadata": {},
   "source": [
    "============================================================================================================"
   ]
  },
  {
   "cell_type": "markdown",
   "metadata": {},
   "source": [
    "Q2. If the function contains at least of one “yield” statement, then it becomes ______ Choose one<br>\n",
    "a) An iterable<br>\n",
    "b) a generator function<br>\n",
    "c) an anonymous function<br>\n",
    "d) None of the above"
   ]
  },
  {
   "cell_type": "markdown",
   "metadata": {},
   "source": [
    "**Ans :  a generator function**"
   ]
  },
  {
   "cell_type": "markdown",
   "metadata": {},
   "source": [
    "============================================================================================================"
   ]
  },
  {
   "cell_type": "markdown",
   "metadata": {},
   "source": [
    "Q3. What is the output of the code?<br>\n",
    "\n",
    "\n",
    "mylist = [1, 3, 6, 10]<br>\n",
    "a = (x**2 for x in mylist) print(next(a), next(a))<br>\n",
    "\n",
    "a)\t1 3<br>\n",
    "b)\t1 9<br>\n",
    "c) 1 9 36 100<br>\n",
    "d)\t1<br>\n"
   ]
  },
  {
   "cell_type": "markdown",
   "metadata": {},
   "source": [
    "**Ans  : b)1 9**"
   ]
  },
  {
   "cell_type": "markdown",
   "metadata": {},
   "source": [
    "============================================================================================================"
   ]
  },
  {
   "cell_type": "markdown",
   "metadata": {},
   "source": [
    "Q4. What are the criteria that must be met to create closure in Python?<br>\n",
    "a)\tThe program Must have the function inside the function.<br>\n",
    "b)\tThe nested function must refer to the value defined in the enclosing function.<br>\n",
    "c)\tThe enclosing function must return the nested<br>\n",
    "d)\tAll of the above.\n"
   ]
  },
  {
   "cell_type": "markdown",
   "metadata": {},
   "source": [
    "**Ans : All of the above.**"
   ]
  },
  {
   "cell_type": "markdown",
   "metadata": {},
   "source": [
    "============================================================================================================"
   ]
  },
  {
   "cell_type": "markdown",
   "metadata": {},
   "source": [
    "Q5. What is the output of the code?\n",
    "\n",
    "\tdef Foo(n):\n",
    "\t   def multiplier(x):\n",
    "\t \treturn x * n\n",
    "\t   return multiplier 5.\n",
    "\ta = Foo(5)\n",
    "\tb = Foo(5) 8.\n",
    "    print(a(b(2)))\n",
    "\n",
    "\n"
   ]
  },
  {
   "cell_type": "markdown",
   "metadata": {},
   "source": [
    "**Ans : 50**"
   ]
  },
  {
   "cell_type": "markdown",
   "metadata": {},
   "source": [
    "============================================================================================================"
   ]
  },
  {
   "attachments": {},
   "cell_type": "markdown",
   "metadata": {},
   "source": [
    "Q6. What is the output of the code?\n",
    "\n",
    "    def make_pretty(func):\n",
    "\t\tdef inner():\n",
    "\t\t\tprint(\"I got decorated\")\n",
    "\t\t\tfunc()\n",
    "\t\t\treturn inner\n",
    "\t\t\t\n",
    "\tdef ordinary():\n",
    "\t\tprint(\"I am ordinary\")\n",
    "\t\t\n",
    "\tpretty = make_pretty(ordinary)\n",
    "\tpretty()"
   ]
  },
  {
   "cell_type": "markdown",
   "metadata": {},
   "source": [
    "**Ans : <br>\n",
    "I got decorated<br>\n",
    "            I am ordinary**"
   ]
  },
  {
   "cell_type": "markdown",
   "metadata": {},
   "source": [
    "============================================================================================================"
   ]
  },
  {
   "cell_type": "markdown",
   "metadata": {},
   "source": [
    "Q7: What is the more pythonic way to use getters and setters?<br>\n",
    "a)\tDecorators <br>\n",
    "b)\tGenerators.<br>\n",
    "c)\tIterators<br>\n",
    "d)\t@property\n"
   ]
  },
  {
   "cell_type": "markdown",
   "metadata": {},
   "source": [
    "**Ans : @property**"
   ]
  },
  {
   "cell_type": "markdown",
   "metadata": {},
   "source": [
    "============================================================================================================"
   ]
  },
  {
   "cell_type": "markdown",
   "metadata": {},
   "source": [
    "Q8. In Python, there is a built-in function property() that returns a property object. The property object has which of the methods?<br>\n",
    "a)\tgetter() and setter()<br>\n",
    "b)\tgetter(), setter() and delete()<br>\n",
    "c)\tgetter() and delete()<br>\n",
    "d)\tsetter() and delete()\n"
   ]
  },
  {
   "cell_type": "markdown",
   "metadata": {},
   "source": [
    "**Ans : getter(), setter() and delete()**"
   ]
  },
  {
   "cell_type": "markdown",
   "metadata": {},
   "source": [
    "============================================================================================================"
   ]
  },
  {
   "cell_type": "markdown",
   "metadata": {},
   "source": [
    "Q9. Which of the following statement is true?<br>\n",
    "a)\tYou cannot chain multiple decorators in Python.<br>\n",
    "b)\tDecorators don’t work with functions that take parameters.<br>\n",
    "c)\tThe @ symbol doesn’t have any use while using decorators.<br>\n",
    "d)\tNone of the above\n"
   ]
  },
  {
   "cell_type": "markdown",
   "metadata": {},
   "source": [
    "**Ans : None of the above**"
   ]
  },
  {
   "cell_type": "markdown",
   "metadata": {},
   "source": [
    "============================================================================================================"
   ]
  },
  {
   "cell_type": "markdown",
   "metadata": {},
   "source": [
    "Q10. For the following codes, which of the following statements is true?<br>\n",
    "\n",
    "    def printHello()\n",
    "        print(\"Hello\")\n",
    "    a = printHello()\n",
    "\n",
    "a)\tPrint Hello() is a function, and a is a variable. None of them are objects.<br>\n",
    "b)\tBoth printHello() and the reference to the same object.<br>\n",
    "c)\tPrint Hello() and the reference to different objects.<br>\n",
    "d)\tSyntax error! You cannot assign function<br>\n"
   ]
  },
  {
   "cell_type": "markdown",
   "metadata": {},
   "source": [
    "**Ans : Print Hello() is a function, and a is a variable. None of them are objects.**"
   ]
  },
  {
   "cell_type": "markdown",
   "metadata": {},
   "source": [
    "============================================================================================================"
   ]
  },
  {
   "cell_type": "markdown",
   "metadata": {},
   "source": [
    "Q11. What is the output of the program?\n",
    "\n",
    "    def outerFunction():\n",
    "        global a \n",
    "        a = 20 \n",
    "        def innerFunction():\n",
    "            global a\n",
    "            a = 30 \n",
    "            print('a =', a) \n",
    "    a = 10 \n",
    "    outerFunction()\n",
    "    print('a =', a)"
   ]
  },
  {
   "cell_type": "markdown",
   "metadata": {},
   "source": [
    "**Ans : a = 20**"
   ]
  },
  {
   "cell_type": "markdown",
   "metadata": {},
   "source": [
    "============================================================================================================"
   ]
  },
  {
   "cell_type": "markdown",
   "metadata": {},
   "source": [
    "Q12. Which of the following statements is true?<br>\n",
    "    a)\tA class is a blueprint for the object.<br>\n",
    "    b)\tYou can only make the single object from the given class<br>\n",
    "    c)\tBoth statements are true.<br>\n",
    "    d)\tNeither statement is true.<br>\n"
   ]
  },
  {
   "cell_type": "markdown",
   "metadata": {},
   "source": [
    "**Ans : A class is a blueprint for the object.**"
   ]
  },
  {
   "cell_type": "markdown",
   "metadata": {},
   "source": [
    "============================================================================================================"
   ]
  },
  {
   "cell_type": "markdown",
   "metadata": {},
   "source": [
    "Q13. What is the output of the code?\n",
    "\n",
    "    class Foo:\n",
    "        def printLine(self, line='Python'):\n",
    "            print(line)\n",
    "            \n",
    "    o1 = Foo()\n",
    "    o1.printLine('Java')\n"
   ]
  },
  {
   "cell_type": "markdown",
   "metadata": {},
   "source": [
    "**Ans : Java**"
   ]
  },
  {
   "cell_type": "markdown",
   "metadata": {},
   "source": [
    "============================================================================================================"
   ]
  },
  {
   "cell_type": "markdown",
   "metadata": {},
   "source": [
    "Q14. What is the function of the \tinit\t() function in Python?\n",
    "\n",
    "\n",
    "a)\tInitialises the class for use.<br>\n",
    "b)\tThis function is called, when the new object is instantiated<br>\n",
    "c)\tInitialises all the data attributes to zero when called<br>\n",
    "d)\tNone of the above.\n"
   ]
  },
  {
   "cell_type": "markdown",
   "metadata": {},
   "source": [
    "**Ans : This function is called, when the new object is instantiated**"
   ]
  },
  {
   "cell_type": "markdown",
   "metadata": {},
   "source": [
    "============================================================================================================"
   ]
  },
  {
   "cell_type": "markdown",
   "metadata": {},
   "source": [
    "Q15. What is the output of the code?\n",
    "\n",
    "    class Point:\n",
    "        def\tinit\t(self, x = 0, y = 0):\n",
    "        self.x = x+1\n",
    "        self.y = y+1 5\n",
    "        \n",
    "    p1 = Point()\n",
    "    print(p1.x, p1.y)\n"
   ]
  },
  {
   "cell_type": "markdown",
   "metadata": {},
   "source": [
    "**Ans : 11**"
   ]
  },
  {
   "cell_type": "markdown",
   "metadata": {},
   "source": [
    "============================================================================================================"
   ]
  },
  {
   "cell_type": "markdown",
   "metadata": {},
   "source": [
    "Which of the following code used the inheritance feature?\n",
    "\n",
    "\n",
    "a)\n",
    "    \n",
    "    Class Foo:\n",
    "        Pass\n",
    "    \n",
    "b)\n",
    "\n",
    "    class Foo(object):\t\n",
    "        pass\t\n",
    "    class Hoo(object):\t\n",
    "        pass\n",
    "c)\n",
    "\n",
    "    class Foo:\t\n",
    "        pass\t\n",
    "    class Hoo(Foo):\t\n",
    "        pass\n",
    " \n",
    "d) None of the above code.\n"
   ]
  },
  {
   "cell_type": "markdown",
   "metadata": {},
   "source": [
    "**Ans :**\n",
    "\n",
    "    class Foo:\t\n",
    "        pass\t\n",
    "    class Hoo(Foo):\t\n",
    "        pass\n"
   ]
  },
  {
   "cell_type": "markdown",
   "metadata": {},
   "source": [
    "============================================================================================================"
   ]
  },
  {
   "cell_type": "markdown",
   "metadata": {},
   "source": [
    "Q17 If you a class is derived from two different classes, it’s called\n",
    "\n",
    "a)\tMultilevel inheritance<br>\n",
    "b)\tMultiple Inheritance<br>\n",
    "c)\tHierarchical Inheritance<br>\n",
    "d)\tPython Inheritance<br>\n"
   ]
  },
  {
   "cell_type": "markdown",
   "metadata": {},
   "source": [
    "**Ans : Multiple Inheritance**"
   ]
  },
  {
   "cell_type": "markdown",
   "metadata": {},
   "source": [
    "============================================================================================================"
   ]
  },
  {
   "cell_type": "markdown",
   "metadata": {},
   "source": [
    "Q18. Which of the following statements is true?<br>\n",
    "\n",
    "a)\tIn Python, the same operator may behave differently depends upon the operands.<br>\n",
    "b)\tYou can change the way operators which behave in Python.<br>\n",
    "c)\tSpecial method  add() \tis called when + operator<br>\n",
    "d)\tAll of the above.\n"
   ]
  },
  {
   "cell_type": "markdown",
   "metadata": {},
   "source": [
    "**Ans : All of the above.**"
   ]
  },
  {
   "cell_type": "markdown",
   "metadata": {},
   "source": [
    "============================================================================================================"
   ]
  },
  {
   "cell_type": "markdown",
   "metadata": {},
   "source": [
    "Q19. What is the output of the code?\n",
    "\n",
    "    class Point:\n",
    "\n",
    "\t   def\tinit\t(self, x = 0, y = 0):\n",
    "            self.x = x\n",
    "            self.y = y \n",
    "        \n",
    "       def\tsub\t(self, other):\n",
    "            x = self.x + other.x\n",
    "            y = self.y + other.y\n",
    "            return Point(x,y)\n",
    "            \n",
    "     p1 = Point(3, 4)\n",
    "     p2 = Point(1, 2)\n",
    "     result = p1-p2\n",
    "\t print(result.x, result.y)\n"
   ]
  },
  {
   "cell_type": "markdown",
   "metadata": {},
   "source": [
    "**Ans : 4 6**"
   ]
  },
  {
   "cell_type": "markdown",
   "metadata": {},
   "source": [
    "============================================================================================================"
   ]
  },
  {
   "cell_type": "markdown",
   "metadata": {},
   "source": [
    "Q20. Opening a file in ‘a’ mode<br>\n",
    "\n",
    "a)\topens a file for reading<br>\n",
    "b)\topens a file for writing<br>\n",
    "c)\topens the file for appending, at the end of file<br>\n",
    "d)\topens a file for exclusive creation\n"
   ]
  },
  {
   "cell_type": "markdown",
   "metadata": {},
   "source": [
    "**Ans : c)\topens the file for appending, at the end of file**"
   ]
  },
  {
   "cell_type": "markdown",
   "metadata": {},
   "source": [
    "============================================================================================================"
   ]
  },
  {
   "cell_type": "markdown",
   "metadata": {},
   "source": [
    "Q21. What does the following code do?<br>\n",
    "\n",
    " \tf = open(\"test.txt\")\n",
    "    \n",
    "a)\tOpens test.txt file for both reading and writing<br>\n",
    "b)\tOpens test.txt file for reading only<br>\n",
    "c)\tOpens test.txt file for writing only<br>\n",
    "d)\tOpens test.txt file in god mode\n"
   ]
  },
  {
   "cell_type": "markdown",
   "metadata": {},
   "source": [
    "**Ans : b)\tOpens test.txt file for reading only**"
   ]
  },
  {
   "cell_type": "markdown",
   "metadata": {},
   "source": [
    "============================================================================================================"
   ]
  },
  {
   "cell_type": "markdown",
   "metadata": {},
   "source": [
    "Q22. Which of the codes closes files automatically if an exception occurs?\n",
    "Choose one<br>\n",
    "\n",
    "a)<br>\n",
    "\n",
    "\n",
    "    with open(\"test.txt\", encoding = 'utf-8')  as  f:\t\n",
    "\t# perform file operation\t\n",
    "\n",
    "b)<br>\n",
    "\n",
    "\ttry:\t\n",
    "        f = open(\"test.txt\",encoding = 'utf-8')\t\n",
    "        # perform file operations\t\n",
    "\tfinally:\t\n",
    "        f.close()\t\n",
    "\n",
    "c)\tNone of the above<br>\n",
    "\n",
    "d)\tBoth of the above\n"
   ]
  },
  {
   "cell_type": "markdown",
   "metadata": {},
   "source": [
    "**Ans : c)\tNone of the above**"
   ]
  },
  {
   "cell_type": "markdown",
   "metadata": {},
   "source": [
    "============================================================================================================"
   ]
  },
  {
   "cell_type": "markdown",
   "metadata": {},
   "source": [
    "Q23. For the following code,\n",
    "\n",
    "\n",
    "\tf = open('test.txt', 'r', encoding = 'utf-8')\t\n",
    "\tf.read()\t\n",
    "\n",
    "\n",
    "Which of the following statement is true<br>\n",
    "\n",
    "a)\tThis program reads the content of the test.txt file.<br>\n",
    "b)\tIf test.txt contains a newline, read() will return the newline as ‘\\n’.<br>\n",
    "c)\tYou can pass an integer to the read() method<br>\n",
    "d)\tAll of the above.\n"
   ]
  },
  {
   "cell_type": "markdown",
   "metadata": {},
   "source": [
    "**Ans : d)\tAll of the above.**"
   ]
  },
  {
   "cell_type": "markdown",
   "metadata": {},
   "source": [
    "============================================================================================================"
   ]
  },
  {
   "cell_type": "markdown",
   "metadata": {},
   "source": [
    "Q24. What does the following code do?\n",
    "\n",
    "    os.listdir()\n",
    "\n",
    "a)\tPrints the current working directory.<br>\n",
    "b)\tPrints the current working directory.<br>\n",
    "c)\tPrints all the directories and files inside the given directory<br>\n",
    "d)\tMake a new directory\n"
   ]
  },
  {
   "cell_type": "markdown",
   "metadata": {},
   "source": [
    "**Ans : c)\tPrints all the directories and files inside the given directory**"
   ]
  },
  {
   "cell_type": "markdown",
   "metadata": {},
   "source": [
    "============================================================================================================"
   ]
  },
  {
   "cell_type": "markdown",
   "metadata": {},
   "source": [
    "Q25. Which of the following is correct?<br>\n",
    "\n",
    "a)\tAn exception is an error that occurs in the runtime.<br>\n",
    "b)\tA syntax error is also an exception.<br>\n",
    "c)\tAn exception is used to exclude a block of code in python.<br>\n",
    "d)\tAll of the above.\n"
   ]
  },
  {
   "cell_type": "markdown",
   "metadata": {},
   "source": [
    "**Ans : d)\tAll of the above.**"
   ]
  },
  {
   "cell_type": "markdown",
   "metadata": {},
   "source": [
    "============================================================================================================"
   ]
  },
  {
   "cell_type": "markdown",
   "metadata": {},
   "source": [
    "Q26. What will happen if we try to open the file that doesn’t exist?\n",
    "\n",
    "a)\tA new file is created.<br>\n",
    "b)\tNothing will happen.<br>\n",
    "c)\tAn exception is raised.<br>\n",
    "d)\tNone of the above\n"
   ]
  },
  {
   "cell_type": "markdown",
   "metadata": {},
   "source": [
    "**Ans : c)\tAn exception is raised.**"
   ]
  },
  {
   "cell_type": "markdown",
   "metadata": {},
   "source": [
    "============================================================================================================"
   ]
  },
  {
   "cell_type": "markdown",
   "metadata": {},
   "source": [
    "Q27. What is the output of the code?\n",
    "\n",
    "\n",
    "\tnumber = 5.0\t\n",
    "\ttry:\t\n",
    "        r = 10/number\t\n",
    "        print(r)\t\n",
    "\texcept:\t\n",
    "        print(\"Oops! Error occurred.\")\t\n",
    "    \n",
    "    \n"
   ]
  },
  {
   "cell_type": "markdown",
   "metadata": {},
   "source": [
    "**Ans : b) 2.0**"
   ]
  },
  {
   "cell_type": "markdown",
   "metadata": {},
   "source": [
    "============================================================================================================"
   ]
  },
  {
   "cell_type": "markdown",
   "metadata": {},
   "source": [
    "Q28. What does the following code do?\n",
    "\n",
    "\ttry:\n",
    "\t  # code that can raise an error\n",
    "\t   pass \n",
    "\texcept (TypeError, ZeroDivisionError):\n",
    "\t  print(\"Two\")\n",
    "\n",
    "\n",
    "\n",
    "a)\tPrints Two if an exception occurs (doesn’t matter which exception).<br>\n",
    "b)\tPrints Two if exception doesn’t occur.<br>\n",
    "c)\tPrints Two if the TypeError or ZeroDivisionError exception occurs.<br>\n",
    "d)\tPrints Two only if both TypeError and ZeroDivisionError exception occur.\n"
   ]
  },
  {
   "cell_type": "markdown",
   "metadata": {},
   "source": [
    "**Ans : c)\tPrints Two if the TypeError or ZeroDivisionError exception occurs.**"
   ]
  },
  {
   "cell_type": "markdown",
   "metadata": {},
   "source": [
    "============================================================================================================"
   ]
  },
  {
   "cell_type": "markdown",
   "metadata": {},
   "source": [
    "Q29. Which of the following statement is true?\n",
    "\n",
    "a)\tYou cannot create custom exceptions in Python.<br>\n",
    "b)\tYou can create the user-defined exception by deriving a class from Exception class.<br>\n",
    "c)\tYou can create a user-defined exception by deriving a class from Error class.<br>\n",
    "d)\tNone of the above.\n"
   ]
  },
  {
   "cell_type": "markdown",
   "metadata": {},
   "source": [
    "**Ans : b)\tYou can create the user-defined exception by deriving a class from Exception class.**"
   ]
  },
  {
   "cell_type": "markdown",
   "metadata": {},
   "source": [
    "============================================================================================================"
   ]
  },
  {
   "cell_type": "markdown",
   "metadata": {},
   "source": [
    "Q30. Which of the following statement is true?\n",
    "\n",
    "a)\tFunctions are used to create objects in Python.<br>\n",
    "b)\tFunctions make your program run faster.<br>\n",
    "c)\tThe function is a piece of code that can perform a specific task.<br>\n",
    "d)\tAll of the above\n"
   ]
  },
  {
   "cell_type": "markdown",
   "metadata": {},
   "source": [
    "**Ans : c)\tThe function is a piece of code that can perform a specific task.**"
   ]
  },
  {
   "cell_type": "markdown",
   "metadata": {},
   "source": [
    "============================================================================================================"
   ]
  },
  {
   "cell_type": "markdown",
   "metadata": {},
   "source": [
    "Q31. What is the output of the code?\n",
    "\n",
    "    def printLine(text): \n",
    "        print(text, 'is awesome.')\n",
    "        \n",
    "    printLine('Python')"
   ]
  },
  {
   "cell_type": "markdown",
   "metadata": {},
   "source": [
    "**Ans : b)\tPython is awesome.**"
   ]
  },
  {
   "cell_type": "markdown",
   "metadata": {},
   "source": [
    "============================================================================================================"
   ]
  },
  {
   "cell_type": "markdown",
   "metadata": {},
   "source": [
    "Q32. If the return statement is not used inside the function, the function will return:\n",
    "\n",
    "a)\t0<br>\n",
    "b)\tNone object<br>\n",
    "c)\tan arbitrary integer<br>\n",
    "d)\tError! Functions in Python must have a return statement.\n"
   ]
  },
  {
   "cell_type": "markdown",
   "metadata": {},
   "source": [
    "**Ans : b)\tNone object**"
   ]
  },
  {
   "cell_type": "markdown",
   "metadata": {},
   "source": [
    "============================================================================================================"
   ]
  },
  {
   "cell_type": "markdown",
   "metadata": {},
   "source": [
    "Q33. What is the output of the code?\n",
    "\n",
    "    def greetPerson(*name):\n",
    "        print('Hello', name) \n",
    "        \n",
    "    greetPerson('Frodo', 'Sauron')"
   ]
  },
  {
   "cell_type": "markdown",
   "metadata": {},
   "source": [
    "**Ans : b)\tHello ('Frodo', 'Sauron')**"
   ]
  },
  {
   "cell_type": "markdown",
   "metadata": {},
   "source": [
    "============================================================================================================"
   ]
  },
  {
   "cell_type": "markdown",
   "metadata": {},
   "source": [
    "Q34. What is a recursive function?\n",
    "\n",
    " \n",
    "Choose one\n",
    " \n",
    "\n",
    "a)\tA function that calls all the functions in the program.<br>\n",
    "b)\tA function that calls itself.<br>\n",
    "c)\tA function that that calls all the functions in the program except itself.<br>\n",
    "d)\tThere is no such thing as a recursive function in Python.\n"
   ]
  },
  {
   "cell_type": "markdown",
   "metadata": {},
   "source": [
    "**Ans : b)\tA function that calls itself.**"
   ]
  },
  {
   "cell_type": "markdown",
   "metadata": {},
   "source": [
    "============================================================================================================"
   ]
  },
  {
   "cell_type": "markdown",
   "metadata": {},
   "source": [
    "Q35. What is the output of the program?\n",
    "\n",
    "    result = lambda x: x * x\n",
    "    print(result(5))"
   ]
  },
  {
   "cell_type": "markdown",
   "metadata": {},
   "source": [
    "**Ans : c)\t25**"
   ]
  },
  {
   "cell_type": "markdown",
   "metadata": {},
   "source": [
    "============================================================================================================"
   ]
  },
  {
   "cell_type": "markdown",
   "metadata": {},
   "source": [
    "Q36. What is the output of the program?\n",
    "\n",
    "    def Foo(x):\n",
    "        if (x==1): \n",
    "            return 1 \n",
    "        else:\n",
    "            return x+Foo(x-1) \n",
    "    print(Foo(4))"
   ]
  },
  {
   "cell_type": "markdown",
   "metadata": {},
   "source": [
    "**Ans : a)\t10**"
   ]
  },
  {
   "cell_type": "markdown",
   "metadata": {},
   "source": [
    "============================================================================================================"
   ]
  },
  {
   "cell_type": "markdown",
   "metadata": {},
   "source": [
    "Q37. Suppose you need to print pi constant defined in the math module. Which of the following code can do this task?\n",
    "\n",
    "\n",
    "    a)\t\n",
    "    print(math.pi)\n",
    "\n",
    "    b)\t\n",
    "    print(pi) c)\n",
    "\n",
    "\n",
    "    c) \n",
    "    from math import pi \n",
    "    print(math.pi)\n",
    "    \n",
    "    d)\n",
    "    from math import pi \n",
    "    print(math.pi)\n"
   ]
  },
  {
   "cell_type": "markdown",
   "metadata": {},
   "source": [
    "**Ans :**\n",
    "    \n",
    "    from math import pi\t\n",
    "    print(pi)\t\n"
   ]
  },
  {
   "cell_type": "markdown",
   "metadata": {},
   "source": [
    "============================================================================================================"
   ]
  },
  {
   "cell_type": "markdown",
   "metadata": {},
   "source": [
    "Q38. Which operator is used in Python to import modules from the packages?\n",
    "\n",
    " \n",
    "Choose one\n",
    " \n",
    "\n",
    "a). operator<br>\n",
    "b)\t* operator<br>\n",
    "c)\t-> symbol<br>\n",
    "d)\t, operator\n"
   ]
  },
  {
   "cell_type": "markdown",
   "metadata": {},
   "source": [
    "**Ans : a). operator**"
   ]
  },
  {
   "cell_type": "markdown",
   "metadata": {},
   "source": [
    "============================================================================================================"
   ]
  },
  {
   "cell_type": "markdown",
   "metadata": {},
   "source": [
    "Q39. What is the output of the code?\n",
    "\n",
    "    numbers = [1, 3, 6]\n",
    "    newNumbers = tuple(map(lambda x: x , numbers))\n",
    "    print(newNumbers)\n"
   ]
  },
  {
   "cell_type": "markdown",
   "metadata": {},
   "source": [
    "**Ans : b) (1, 3, 6)**"
   ]
  },
  {
   "cell_type": "markdown",
   "metadata": {},
   "source": [
    "============================================================================================================"
   ]
  },
  {
   "cell_type": "markdown",
   "metadata": {},
   "source": [
    "Q40. What is the output of the code?\n",
    "\n",
    "    if None:\n",
    "        print(“Hello”)"
   ]
  },
  {
   "cell_type": "markdown",
   "metadata": {},
   "source": [
    "**Ans : d)\tSyntax error**"
   ]
  },
  {
   "cell_type": "markdown",
   "metadata": {},
   "source": [
    "============================================================================================================"
   ]
  },
  {
   "cell_type": "markdown",
   "metadata": {},
   "source": [
    "Q41. The if-elif-else executes only one block of code among several blocks.\n",
    "\n",
    "a) True.<br>\n",
    "b) False <br>\n",
    "c) It depends on the expression used.<br>\n",
    "d) There is no elif statement in Python"
   ]
  },
  {
   "cell_type": "markdown",
   "metadata": {},
   "source": [
    "**Ans : a)\tTrue.**"
   ]
  },
  {
   "cell_type": "markdown",
   "metadata": {},
   "source": [
    "============================================================================================================"
   ]
  },
  {
   "cell_type": "markdown",
   "metadata": {},
   "source": [
    "Q42. What is the output of the code?\n",
    "\n",
    "    for i in [1, 0]:\n",
    "        print(i+1)"
   ]
  },
  {
   "cell_type": "markdown",
   "metadata": {},
   "source": [
    "**Ans : a)\t\n",
    "    2 <br>\n",
    "    1**"
   ]
  },
  {
   "cell_type": "markdown",
   "metadata": {},
   "source": [
    "============================================================================================================"
   ]
  },
  {
   "cell_type": "markdown",
   "metadata": {},
   "source": [
    "Q43. In the Python, for and while loop can have the optional else statement?\n",
    "\n",
    "a)\tOnly for loop can have the optional else statement<br>\n",
    "b)\tOnly while loop can have the optional else statement<br>\n",
    "c)\tBoth loops can have optional else statement<br>\n",
    "d)\tLoops cannot have else statement in Python\n"
   ]
  },
  {
   "cell_type": "markdown",
   "metadata": {},
   "source": [
    "**Ans : c)\tBoth loops can have optional else statement**"
   ]
  },
  {
   "cell_type": "markdown",
   "metadata": {},
   "source": [
    "============================================================================================================"
   ]
  },
  {
   "cell_type": "markdown",
   "metadata": {},
   "source": [
    "Q44. What is the output of the code?\n",
    "\n",
    "\n",
    "    i = sum = 0\n",
    "\n",
    "    while i <= 4:\n",
    "        sum += i\n",
    "        i = i+1\n",
    "    \n",
    "    print(sum)\n"
   ]
  },
  {
   "cell_type": "markdown",
   "metadata": {},
   "source": [
    "**Ans : b)\t10**"
   ]
  },
  {
   "cell_type": "markdown",
   "metadata": {},
   "source": [
    "============================================================================================================"
   ]
  },
  {
   "cell_type": "markdown",
   "metadata": {},
   "source": [
    "Q45. What is the output of the code?\n",
    "\n",
    "    while 4 == 4:\n",
    "        print('4')"
   ]
  },
  {
   "cell_type": "markdown",
   "metadata": {},
   "source": [
    "**Ans : c)\t4 is printed infinitely until the program closes**"
   ]
  },
  {
   "cell_type": "markdown",
   "metadata": {},
   "source": [
    "============================================================================================================"
   ]
  },
  {
   "cell_type": "markdown",
   "metadata": {},
   "source": [
    "Q46. Is it better to use the for loop instead of while if we are iterating through a sequence?\n",
    "\n",
    "a)\tNo, it’s better to use the while loop.<br>\n",
    "b)\tYes, for loop is more pythonic choice.<br>\n",
    "c)\tNo, we cannot iterate through a sequence using a while loop.<br>\n",
    "d)\tNo, we cannot iterate through a sequence using loops.\n",
    "\n"
   ]
  },
  {
   "cell_type": "markdown",
   "metadata": {},
   "source": [
    "**Ans : b)\tYes, for loop is more pythonic choice.**"
   ]
  },
  {
   "cell_type": "markdown",
   "metadata": {},
   "source": [
    "============================================================================================================"
   ]
  },
  {
   "cell_type": "markdown",
   "metadata": {},
   "source": [
    "Q47. Which of the following statement is true?\n",
    "\n",
    "a)\t“break”- It terminates the loop containing it.<br>\n",
    "b)\t“continue” - It is used to skip the rest of the code inside the loops.<br>\n",
    "c)\t\tbreak and continue: These are almost always used with if, if...else and if...elif...else statements.<br>\n",
    "d)\tAll of the above.\n",
    "\n"
   ]
  },
  {
   "cell_type": "markdown",
   "metadata": {},
   "source": [
    "**Ans : d)\tAll of the above.**"
   ]
  },
  {
   "cell_type": "markdown",
   "metadata": {},
   "source": [
    "============================================================================================================"
   ]
  },
  {
   "cell_type": "markdown",
   "metadata": {},
   "source": [
    "Q48. What is the output of the code?\n",
    "\n",
    "    for char in 'PYTHON STRING': \n",
    "        if char == ' ': \n",
    "            break\n",
    "    print(char, end='')\n",
    "\n",
    "    if char == 'O':\n",
    "        continue"
   ]
  },
  {
   "cell_type": "markdown",
   "metadata": {},
   "source": [
    "**Ans : a)\tPYTHON**"
   ]
  },
  {
   "cell_type": "markdown",
   "metadata": {},
   "source": [
    "============================================================================================================"
   ]
  },
  {
   "cell_type": "markdown",
   "metadata": {},
   "source": [
    "Q49. Which of the statement is true about the “pass”\n",
    "statement?\n",
    "\n",
    "a) Python interpreter- It ignores the “pass” statement like comments.<br>\n",
    "b) Pass statement: It terminates the loop containing pass statement.<br>\n",
    "c) It is used as the placeholder for future implementation of functions, loops, etc<br>\n",
    "d) All of the above."
   ]
  },
  {
   "cell_type": "markdown",
   "metadata": {},
   "source": [
    "**Ans : d)\tAll of the above.**"
   ]
  },
  {
   "cell_type": "markdown",
   "metadata": {},
   "source": [
    "============================================================================================================"
   ]
  },
  {
   "cell_type": "markdown",
   "metadata": {},
   "source": [
    "Q50. In regards to separated value files such as .csv and .tsv, what is the delimiter?\n",
    "\n",
    "a)\tAnywhere the comma (,) character is used in the file.<br>\n",
    "b)\tDelimiters are not used in separated value files.<br>\n",
    "c)\tAny character such as the comma (,) or tab (\\t) that is used to separate the column data.<br>\n",
    "d)\tAny character such as the comma (,) or tab (\\t) that is used to separate the row data\n"
   ]
  },
  {
   "cell_type": "markdown",
   "metadata": {},
   "source": [
    "**Ans : c)\tAny character such as the comma (,) or tab (\\t) that is used to separate the column data.**"
   ]
  },
  {
   "cell_type": "markdown",
   "metadata": {},
   "source": [
    "============================================================================================================"
   ]
  },
  {
   "cell_type": "markdown",
   "metadata": {},
   "source": [
    "Q51. In separated value files such as .csv and .tsv, what does the first row in the file typically contain?\n",
    "\n",
    "a)\tThe column names of the data.<br>\n",
    "b)\tThe author of the table data.<br>\n",
    "c)\tThe source of the data<br>\n",
    "d)\tNotes about the table data\n"
   ]
  },
  {
   "cell_type": "markdown",
   "metadata": {},
   "source": [
    "**Ans : a)\tThe column names of the data.**"
   ]
  },
  {
   "cell_type": "markdown",
   "metadata": {},
   "source": [
    "============================================================================================================"
   ]
  },
  {
   "cell_type": "markdown",
   "metadata": {},
   "source": [
    "Q52. Assume you have a file object my_data, which has properly opened a separated value file that uses the tab character (\\t) as the delimiter.\n",
    "\n",
    "What is the proper way to open the file using the Python CSV module and assign it to the variable csv_reader?\n",
    "\n",
    "Assume that csv has already been imported.<br>\n",
    "a)\tcsv.tab_reader(my_data)<br>\n",
    "b)\tcsv.reader(my_data, delimiter='\\t')<br>\n",
    "c)\tcsv.reader(my_data)<br>\n",
    "d)\tcsv.reader(my_data, tab_delimited=True)\n"
   ]
  },
  {
   "cell_type": "markdown",
   "metadata": {},
   "source": [
    "**Ans : b)\tcsv.reader(my_data, delimiter='\\t')**"
   ]
  },
  {
   "cell_type": "markdown",
   "metadata": {},
   "source": [
    "============================================================================================================"
   ]
  },
  {
   "cell_type": "markdown",
   "metadata": {},
   "source": [
    "Q53. When iterating over an object returned from csv.reader(), what is returned with each iteration?\n",
    "For example, given the following code block that assumes csv_reader is an object returned from csv.reader(), what would be printed to the console with each iteration?\n",
    "\n",
    "    for item in csv_reader:\n",
    "        print(item)\n",
    "\n",
    "a)\tThe full line of the file as a string<br>\n",
    "b)\tThe row data as a list<br>\n",
    "c)\tThe individual value data that is separated by the delimiter<br>\n",
    "d)\tThe column data as a list\n"
   ]
  },
  {
   "cell_type": "markdown",
   "metadata": {},
   "source": [
    "**Ans : The row data as a list**"
   ]
  },
  {
   "cell_type": "markdown",
   "metadata": {},
   "source": [
    "============================================================================================================"
   ]
  },
  {
   "cell_type": "markdown",
   "metadata": {},
   "source": [
    "Q54. When writing to a CSV file using the .writerow() method of the csv.DictWriter object, what must each key in the\n",
    "input dict represent? Below is an example:\n",
    "\n",
    "    \n",
    "    with open('test_file.csv', mode='w') as csv_file:\n",
    "        writer = csv.DictWriter( csv_file,fieldnames=['first_col', 'second_col'])\n",
    "        writer.writeheader()\n",
    "\n",
    "    # This input dictionary is what the question is referring # to and is not necessarily correct as shown. \n",
    "    writer.writerow({'key1':'value1', 'key2':'value2'})\n"
   ]
  },
  {
   "cell_type": "markdown",
   "metadata": {},
   "source": [
    "**Ans : c)\tEach key must match up to the field names (column names) used to identify the column data**"
   ]
  },
  {
   "cell_type": "markdown",
   "metadata": {},
   "source": [
    "============================================================================================================"
   ]
  },
  {
   "cell_type": "markdown",
   "metadata": {},
   "source": [
    "Q55. Which is the correct way to open the CSV file hrdata.csv for reading using the pandas package? Assume that the pandas package has already been imported.\n",
    "\n",
    "a)\tpandas.open_csv('hrdata.csv', 'r')<br>\n",
    "b)\tpandas.read_table('hrdata.csv')<br>\n",
    "c)\tpandas.read_csv('hrdata.csv')<br>\n",
    "d)\tpandas.open('hrdata.csv','r')\n"
   ]
  },
  {
   "cell_type": "markdown",
   "metadata": {},
   "source": [
    "**Ans : c)\tpandas.read_csv('hrdata.csv')**"
   ]
  },
  {
   "cell_type": "markdown",
   "metadata": {},
   "source": [
    "============================================================================================================"
   ]
  },
  {
   "cell_type": "markdown",
   "metadata": {},
   "source": [
    "Q56. By default, pandas uses 0-based indices for indexing rows. Which is the correct way to import the CSV file hrdata.csv\n",
    "for reading and using the 'Name' column as the index row instead?\n",
    "\n",
    "Below is the contents of hrdata.csv\n",
    "\n",
    "Name,Hire Date,Salary,Sick Days remaining<br>\n",
    "Fred,10/10/10,10000,10\n"
   ]
  },
  {
   "cell_type": "markdown",
   "metadata": {},
   "source": [
    "**Ans : a)\tpandas.read_csv('hrdata.csv', index_col='Name')**"
   ]
  },
  {
   "cell_type": "markdown",
   "metadata": {},
   "source": [
    "============================================================================================================"
   ]
  },
  {
   "cell_type": "markdown",
   "metadata": {},
   "source": [
    "Q57. Given the file dog_breeds.txt, which of the following is the correct way to open the file for reading as a text file? Select all that apply.\n",
    "\n",
    "a)\topen('dog_breeds.txt', 'w')<br>\n",
    "b)\topen('dog_breeds.txt', 'r')<br>\n",
    "c)\topen('dog_breeds.txt')<br>\n",
    "d)\topen('dog_breeds.txt', 'wb')<br>\n",
    "e)\topen('dog_breeds.txt', 'rb')\n"
   ]
  },
  {
   "cell_type": "markdown",
   "metadata": {},
   "source": [
    "**Ans : b)\topen('dog_breeds.txt', 'r')**"
   ]
  },
  {
   "cell_type": "markdown",
   "metadata": {},
   "source": [
    "============================================================================================================"
   ]
  },
  {
   "attachments": {
    "image.png": {
     "image/png": "[encoded data removed]"
    }
   },
   "cell_type": "markdown",
   "metadata": {},
   "source": [
    "Q58. Given the following directory structure:\n",
    "\n",
    "![image.png](attachment:image.png)\n",
    "\n",
    "Assuming that the cwd is in the root folder where animals reside, what is the full path to\n",
    "the feline folder?\n"
   ]
  },
  {
   "cell_type": "markdown",
   "metadata": {},
   "source": [
    "**Ans : C:/animals/feline**\n",
    "\n",
    "**relative path is ./feline**"
   ]
  },
  {
   "cell_type": "markdown",
   "metadata": {},
   "source": [
    "============================================================================================================"
   ]
  },
  {
   "cell_type": "markdown",
   "metadata": {},
   "source": [
    "Q59. Given the file jack_russell.png, which of the following is the correct way to open the file for reading as a buffered binary file? Select all that apply.\n",
    "\n",
    "open('jack_russell.png', 'rb') <br>\n",
    "open('jack_russell.png', bytes=True) <br>\n",
    "open('jack_russell.png', 'r') <br>\n",
    "open('jack_russell.png') <br>\n",
    "open('jack_russell.png', 'wb')\n"
   ]
  },
  {
   "cell_type": "markdown",
   "metadata": {},
   "source": [
    "**Ans : open('jack_russell.png', 'rb')**"
   ]
  },
  {
   "cell_type": "markdown",
   "metadata": {},
   "source": [
    "============================================================================================================"
   ]
  },
  {
   "attachments": {
    "image.png": {
     "image/png": "[encoded data removed]"
    }
   },
   "cell_type": "markdown",
   "metadata": {},
   "source": [
    "Q60. Using the same directory structure as before:\n",
    "\n",
    "![image.png](attachment:image.png)\n",
    "\n",
    "Assuming that the cwd is in the root folder where Animals reside, what is the full path to\n",
    "the file bears.gif?\n",
    "\n"
   ]
  },
  {
   "cell_type": "markdown",
   "metadata": {},
   "source": [
    "**Ans : C:/animals/ursine/bears.gif**\n",
    "\n",
    "**relative path is ./ursine/bears.gif**"
   ]
  },
  {
   "cell_type": "markdown",
   "metadata": {},
   "source": [
    "============================================================================================================"
   ]
  },
  {
   "cell_type": "markdown",
   "metadata": {},
   "source": [
    "Q61. Whenever possible, what is the recommended way to ensure that a file object is properly closed after usage?\n",
    "\n",
    "a)\tMaking sure that you use the .close() method before the end of the script<br>\n",
    "b)\tIt doesn’t matter<br>\n",
    "c)\tBy using the try/finally block<br>\n",
    "d)\tBy using the with statement\n"
   ]
  },
  {
   "cell_type": "markdown",
   "metadata": {},
   "source": [
    "**Ans : a)\tMaking sure that you use the .close() method before the end of the script**"
   ]
  },
  {
   "cell_type": "markdown",
   "metadata": {},
   "source": [
    "============================================================================================================"
   ]
  },
  {
   "attachments": {
    "image.png": {
     "image/png": "[encoded data removed]"
    }
   },
   "cell_type": "markdown",
   "metadata": {},
   "source": [
    "Q62. Using the same directory structure as before:\n",
    "\n",
    "![image.png](attachment:image.png)\n",
    "\n",
    "Assuming that the cwd is in the feline folder, what is the relative path to the\n",
    "file bears.gif?\n",
    "\n"
   ]
  },
  {
   "cell_type": "markdown",
   "metadata": {},
   "source": [
    "**Ans : ../ursine/bears.gif**"
   ]
  },
  {
   "cell_type": "markdown",
   "metadata": {},
   "source": [
    "============================================================================================================"
   ]
  },
  {
   "cell_type": "markdown",
   "metadata": {},
   "source": [
    "Q63. When reading a file using the file object, what method is best for reading the entire file into a single string?\n",
    "\n",
    "a)\t.read_file_to_str()<br>\n",
    "b)\t.read()<br>\n",
    "c)\t.readlines()<br>\n",
    "d)\t.readline()\n"
   ]
  },
  {
   "cell_type": "markdown",
   "metadata": {},
   "source": [
    "**Ans : b)\t.read()**"
   ]
  },
  {
   "cell_type": "markdown",
   "metadata": {},
   "source": [
    "============================================================================================================"
   ]
  },
  {
   "cell_type": "markdown",
   "metadata": {},
   "source": [
    "Q64. The value 1.73 rounded to one decimal place using the “rounding up” strategy is…\n",
    "\n",
    "a)   1.8<br>\n",
    "b) 1.7<br>\n"
   ]
  },
  {
   "cell_type": "markdown",
   "metadata": {},
   "source": [
    "**Ans : b) 1.7**"
   ]
  },
  {
   "cell_type": "markdown",
   "metadata": {},
   "source": [
    "============================================================================================================"
   ]
  },
  {
   "cell_type": "markdown",
   "metadata": {},
   "source": [
    "Q65. The value -2.961 rounded to two decimal places using the “rounding down” strategy is…\n",
    "\n",
    "a) -2.96<br>\n",
    "b) -2.97\n"
   ]
  },
  {
   "cell_type": "markdown",
   "metadata": {},
   "source": [
    "**Ans : a) -2.96**"
   ]
  },
  {
   "cell_type": "markdown",
   "metadata": {},
   "source": [
    "============================================================================================================"
   ]
  },
  {
   "cell_type": "markdown",
   "metadata": {},
   "source": [
    "Q66. When a value is truncated to 3 decimal places, which of the following is true?\n",
    "\n",
    "a)\tPositive numbers are rounded up, and negative numbers are rounded down.<br>\n",
    "b)\tPositive numbers are rounded down, and negative numbers are rounded up.<br>\n",
    "c)\tBoth positive and negative numbers are rounded up.<br>\n",
    "d)\tBoth positive and negative numbers are rounded down.\n"
   ]
  },
  {
   "cell_type": "markdown",
   "metadata": {},
   "source": [
    "**Ans : a)\tPositive numbers are rounded up, and negative numbers are rounded down.**"
   ]
  },
  {
   "cell_type": "markdown",
   "metadata": {},
   "source": [
    "============================================================================================================"
   ]
  },
  {
   "cell_type": "markdown",
   "metadata": {},
   "source": [
    "Q67. The value -0.045 rounded to 2 decimal places using the “round half away from zero” strategy is…\n",
    "\n",
    "a) -0.05<br>\n",
    "b)  -0.04\n"
   ]
  },
  {
   "cell_type": "markdown",
   "metadata": {},
   "source": [
    "**Ans : a) -0.05**"
   ]
  },
  {
   "cell_type": "markdown",
   "metadata": {},
   "source": [
    "============================================================================================================"
   ]
  },
  {
   "cell_type": "markdown",
   "metadata": {},
   "source": [
    "Q68. Which rounding strategy does Python’s built-in round() function use?\n",
    "\n",
    "a)\tRound half down<br>\n",
    "b)\tRound half away from zero<br>\n",
    "c)\tRound half up<br>\n",
    "d)\tRound half to even\n"
   ]
  },
  {
   "cell_type": "markdown",
   "metadata": {},
   "source": [
    "**Ans : d)\tRound half to even**"
   ]
  },
  {
   "cell_type": "markdown",
   "metadata": {},
   "source": [
    "============================================================================================================"
   ]
  },
  {
   "cell_type": "markdown",
   "metadata": {},
   "source": [
    "Q69. The value 4.65 rounded to one decimal place using the “round half to even” strategy is…\n",
    "\n",
    "a)   4.6<br>\n",
    "b)  4.7\n"
   ]
  },
  {
   "cell_type": "markdown",
   "metadata": {},
   "source": [
    "**Ans : b)  4.7**"
   ]
  },
  {
   "cell_type": "markdown",
   "metadata": {},
   "source": [
    "============================================================================================================"
   ]
  },
  {
   "cell_type": "markdown",
   "metadata": {},
   "source": [
    "Q70. Which problem arises due to the multiple inheritances, if\n",
    " \thierarchical inheritance is used previously for its base classes?\n",
    "\n",
    "\n",
    "a)\tDiamond <br>\n",
    "b) Circle<br>\n",
    "c) Triangle<br>\n",
    "d) Loop\n"
   ]
  },
  {
   "cell_type": "markdown",
   "metadata": {},
   "source": [
    "**Ans : a)\tDiamond**"
   ]
  },
  {
   "cell_type": "markdown",
   "metadata": {},
   "source": [
    "============================================================================================================"
   ]
  },
  {
   "cell_type": "markdown",
   "metadata": {},
   "source": [
    "Q71. How many classes should a program contain to implement the multiple inheritances?\n",
    "\n",
    "a) Only 1<br>\n",
    "b) At least 1 <br>\n",
    "c) At least 3 <br>\n",
    "d) Exactly 3\n"
   ]
  },
  {
   "cell_type": "markdown",
   "metadata": {},
   "source": [
    "**Ans : c) At least 3**"
   ]
  },
  {
   "cell_type": "markdown",
   "metadata": {},
   "source": [
    "============================================================================================================"
   ]
  },
  {
   "cell_type": "markdown",
   "metadata": {},
   "source": [
    "Q72. If class a inherits class b and class c as “class a: public class b, public class c {// class body ;}; ”, which class constructor will be called first?\n",
    "\n",
    "a) Class a. <br>\n",
    "b) Class b. <br>\n",
    "c) Class c.<br>\n",
    "d) All together.\n"
   ]
  },
  {
   "cell_type": "markdown",
   "metadata": {},
   "source": [
    "**Ans : b) Class b.**"
   ]
  },
  {
   "cell_type": "markdown",
   "metadata": {},
   "source": [
    "============================================================================================================"
   ]
  },
  {
   "cell_type": "markdown",
   "metadata": {},
   "source": [
    "Q73.If all the members of all base classes are private then,\n",
    "\n",
    "a) There won’t be any use of multiple inheritance <br>\n",
    "b) It will make all members as public.<br>\n",
    "c) Derived class can still access them in the multiple inheritance <br>\n",
    "d) Compile-time error\n"
   ]
  },
  {
   "cell_type": "markdown",
   "metadata": {},
   "source": [
    "**Ans : There won’t be any use of multiple inheritance**"
   ]
  },
  {
   "cell_type": "markdown",
   "metadata": {},
   "source": [
    "============================================================================================================"
   ]
  },
  {
   "cell_type": "markdown",
   "metadata": {},
   "source": [
    "Q74. Can the derived class be made abstract if multiple inheritance is used?\n",
    "\n",
    "a)\tNo, because other classes must be abstract too<br>\n",
    "b)\tYes, if all the functions are implemented<br>\n",
    "c)\tYes, if all the methods are predefined <br>\n",
    "d) No, since constructors won’t be there\n"
   ]
  },
  {
   "cell_type": "markdown",
   "metadata": {},
   "source": [
    "**Ans : a)\tNo, because other classes must be abstract too**"
   ]
  },
  {
   "cell_type": "markdown",
   "metadata": {},
   "source": [
    "============================================================================================================"
   ]
  },
  {
   "cell_type": "markdown",
   "metadata": {},
   "source": [
    "Q75. Which among the following best defines the multilevel inheritance?\n",
    "\n",
    "a)\tA class derived from another derived class<br>\n",
    "b)\tClasses being derived from other derived classes <br>\n",
    "c) Continuing single level inheritance<br>\n",
    "d) Class which have more than one parent\n"
   ]
  },
  {
   "cell_type": "markdown",
   "metadata": {},
   "source": [
    "**Ans : b)\tClasses being derived from other derived classes**"
   ]
  },
  {
   "cell_type": "markdown",
   "metadata": {},
   "source": [
    "============================================================================================================"
   ]
  },
  {
   "cell_type": "markdown",
   "metadata": {},
   "source": [
    "Q76. If there are 5 classes, E is derived from D, D from C, C from B and B from A. Which class constructor will be called first if the object of E or D is created?\n",
    "\n",
    "a)\tA<br>\n",
    "b)\tB<br>\n",
    "c)\tC<br>\n",
    "d)\tA and B\n"
   ]
  },
  {
   "cell_type": "markdown",
   "metadata": {},
   "source": [
    "**Ans : a)\tA**"
   ]
  },
  {
   "cell_type": "markdown",
   "metadata": {},
   "source": [
    "============================================================================================================"
   ]
  },
  {
   "cell_type": "markdown",
   "metadata": {},
   "source": [
    "Q77. Which Class is having the highest degree of abstraction in\n",
    " \tmultilevel inheritance of 5 levels?\n",
    "\n",
    "a) Class at 1st level<br>\n",
    "b) Class 2nd last level <br>\n",
    "c) Class at 5th level<br>\n",
    "d) All with same abstraction\n"
   ]
  },
  {
   "cell_type": "markdown",
   "metadata": {},
   "source": [
    "**Ans : a) Class at 1st level**"
   ]
  },
  {
   "cell_type": "markdown",
   "metadata": {},
   "source": [
    "============================================================================================================"
   ]
  },
  {
   "cell_type": "markdown",
   "metadata": {},
   "source": [
    "Q78. Multilevel inheritance allows \tin the program.\n",
    "\n",
    "a) Only 7 levels of inheritance <br>\n",
    "b) At least 7 levels of inheritance <br>\n",
    "c)\tAt most 16 levels of inheritance <br>\n",
    "d)\tAs many levels of inheritance as required\n"
   ]
  },
  {
   "cell_type": "markdown",
   "metadata": {},
   "source": [
    "**Ans : d)\tAs many levels of inheritance as required**"
   ]
  },
  {
   "cell_type": "markdown",
   "metadata": {},
   "source": [
    "============================================================================================================"
   ]
  },
  {
   "cell_type": "markdown",
   "metadata": {},
   "source": [
    "Q79. If all the classes used parameterized constructors and no default constructor then,\t\n",
    "\n",
    "a)\tThe object of lower-level classes can’t be created<br>\n",
    "b)\tObject of lower-level classes must call parent class constructors explicitly<br>\n",
    "c) Object of lower-level classes must define all the default constructors <br>\n",
    "d) Only object of first-class can be created, which is first-parent\n",
    "\n",
    " \n"
   ]
  },
  {
   "cell_type": "markdown",
   "metadata": {},
   "source": [
    "**Ans : b)\tObject of lower-level classes must call parent class constructors explicitly**"
   ]
  },
  {
   "cell_type": "markdown",
   "metadata": {},
   "source": [
    "============================================================================================================"
   ]
  },
  {
   "cell_type": "markdown",
   "metadata": {},
   "source": [
    "Q80. Which is the universal exception handler class?\n",
    "\n",
    "a) Object <br>\n",
    "b) Math <br>\n",
    "c) Errors<br>\n",
    "d) Exceptions\n"
   ]
  },
  {
   "cell_type": "markdown",
   "metadata": {},
   "source": [
    "**Ans : d) Exceptions**"
   ]
  },
  {
   "cell_type": "markdown",
   "metadata": {},
   "source": [
    "============================================================================================================"
   ]
  },
  {
   "cell_type": "markdown",
   "metadata": {},
   "source": [
    "Q81. What are two exception classes in the hierarchy of java exceptions class?\n",
    "\n",
    "a)\tRuntime exceptions only <br>\n",
    "b)\tCompile-time exceptions only <br>\n",
    "c)\tRuntime exceptions and other exceptions <br> \n",
    "d) Other exceptions\n"
   ]
  },
  {
   "cell_type": "markdown",
   "metadata": {},
   "source": [
    "**Ans : c)\tRuntime exceptions and other exceptions**"
   ]
  },
  {
   "cell_type": "markdown",
   "metadata": {},
   "source": [
    "============================================================================================================"
   ]
  },
  {
   "cell_type": "markdown",
   "metadata": {},
   "source": [
    "Q82. Which are the two blocks that are used to check error and handle the error?\n",
    "\n",
    "a)\tTry and Except<br>\n",
    "b)\tTrying and catching <br>\n",
    "c) Do and while <br>\n",
    "d) TryDo and Check\n"
   ]
  },
  {
   "cell_type": "markdown",
   "metadata": {},
   "source": [
    "**Ans : a)\tTry and Except**"
   ]
  },
  {
   "cell_type": "markdown",
   "metadata": {},
   "source": [
    "============================================================================================================"
   ]
  },
  {
   "cell_type": "markdown",
   "metadata": {},
   "source": [
    "Q83. To catch the exceptions\t\n",
    "\n",
    "a) An object must be created to catch the exception<br>\n",
    "b) A variable should be created to catch the exception<br>\n",
    "c) An array should be created to catch all the exceptions<br>\n",
    "d) A string has to be created to store exception\n"
   ]
  },
  {
   "cell_type": "markdown",
   "metadata": {},
   "source": [
    "**Ans : An object must be created to catch the exception**"
   ]
  },
  {
   "cell_type": "markdown",
   "metadata": {},
   "source": [
    "============================================================================================================"
   ]
  },
  {
   "cell_type": "markdown",
   "metadata": {},
   "source": [
    "Q84. Which class is used to handle the input and output exceptions?\n",
    "\n",
    "a)\tInputOutput<br>\n",
    "b)\tInputOutputExceptions <br>\n",
    "c) IOExceptions<br>\n",
    "d) ExceptionsIO\n"
   ]
  },
  {
   "cell_type": "markdown",
   "metadata": {},
   "source": [
    "**Ans :  IOExceptions**"
   ]
  },
  {
   "cell_type": "markdown",
   "metadata": {},
   "source": [
    "============================================================================================================"
   ]
  },
  {
   "cell_type": "markdown",
   "metadata": {},
   "source": [
    "Q85. Which among the following is true for the class exceptions?\n",
    "\n",
    "a) Only base class can give rise to the exceptions <br>\n",
    "b) Only derived class can give rise to exceptions<br>\n",
    "c)\tEither base or derived class may produce exceptions<br>\n",
    "d)\tBoth base class and derived class may produce exceptions<br>\n"
   ]
  },
  {
   "cell_type": "markdown",
   "metadata": {},
   "source": [
    "**Ans : d)\tBoth base class and derived class may produce exceptions**"
   ]
  },
  {
   "cell_type": "markdown",
   "metadata": {},
   "source": [
    "============================================================================================================"
   ]
  },
  {
   "cell_type": "markdown",
   "metadata": {},
   "source": [
    "Q86. If both base and derived class caught the exceptions, \t.\n",
    "\n",
    "a) Then catch block of a derived class must be defined before the base class<br>\n",
    "b) Then catch block of the base class must be defined before the derived class <br>\n",
    "c) Then catch block of base and derived classes don't matter.<br>\n",
    "d) catch block of the base and derived classes are not mandatory to be defined\n"
   ]
  },
  {
   "cell_type": "markdown",
   "metadata": {},
   "source": [
    "**Ans : a) Then catch block of a derived class must be defined before the base class**"
   ]
  },
  {
   "cell_type": "markdown",
   "metadata": {},
   "source": [
    "============================================================================================================"
   ]
  },
  {
   "cell_type": "markdown",
   "metadata": {},
   "source": [
    "Q87.  The catching of base class the exception \tin java.\n",
    "\n",
    "a) After derived class is not allowed by the compiler <br>\n",
    "b) Before derived class is not allowed by the compiler <br>\n",
    "c) Before derived class is allowed <br>\n",
    "d) After derived class can’t be done\n"
   ]
  },
  {
   "cell_type": "markdown",
   "metadata": {},
   "source": [
    "**Ans : Before derived class is not allowed by the compiler**"
   ]
  },
  {
   "cell_type": "markdown",
   "metadata": {},
   "source": [
    "============================================================================================================"
   ]
  },
  {
   "cell_type": "markdown",
   "metadata": {},
   "source": [
    "Q88. Which of the following handles the undefined class in the\n",
    " \tprogram?\n",
    "\n",
    "a) ClassNotFound <br>\n",
    "b) NoClassException<br>\n",
    "c)\tClassFoundException<br>\n",
    "d)\tClassNotFoundException\n"
   ]
  },
  {
   "cell_type": "markdown",
   "metadata": {},
   "source": [
    "**Ans : d)\tClassNotFoundException**"
   ]
  },
  {
   "cell_type": "markdown",
   "metadata": {},
   "source": [
    "============================================================================================================"
   ]
  },
  {
   "cell_type": "markdown",
   "metadata": {},
   "source": [
    "Q89. Which among the following is true?\n",
    "\n",
    "a) Only the base class catch the blocks are important. <br>\n",
    "b) Only the derived class catch blocks are important.<br>\n",
    "c)\tBoth the base and derived class catch the blocks are important.<br>\n",
    "d)\tIf the base and derived classes both produce exceptions, the program doesn’t run.\n"
   ]
  },
  {
   "cell_type": "markdown",
   "metadata": {},
   "source": [
    "**Ans : c)\tBoth the base and derived class catch the blocks are important.**"
   ]
  },
  {
   "cell_type": "markdown",
   "metadata": {},
   "source": [
    "============================================================================================================"
   ]
  },
  {
   "cell_type": "markdown",
   "metadata": {},
   "source": [
    "Q90. Which condition among the following might result in memory exception?\n",
    "\n",
    "a)\tFalse if conditions<br>\n",
    "b)\tNested if conditions that are all false <br>\n",
    "c) Infinite loops<br>\n",
    "d) The loop that runs exactly 99 times\n"
   ]
  },
  {
   "cell_type": "markdown",
   "metadata": {},
   "source": [
    "**Ans : c) Infinite loops**"
   ]
  },
  {
   "cell_type": "markdown",
   "metadata": {},
   "source": [
    "============================================================================================================"
   ]
  },
  {
   "cell_type": "markdown",
   "metadata": {},
   "source": [
    "Q91. Which among the following is the correct definition for static\n",
    " \tmember functions?\n",
    "\n",
    "a)\tFunctions created to allocate the constant values to each object<br>\n",
    "b)\tFunctions made to maintain a single copy of member functions for all the objects <br>\n",
    "c) Functions created to define the static members<br>\n",
    "d) Functions made to manipulate the static programs\n"
   ]
  },
  {
   "cell_type": "markdown",
   "metadata": {},
   "source": [
    "**Ans : b)\tFunctions made to maintain a single copy of member functions for all the objects**"
   ]
  },
  {
   "cell_type": "markdown",
   "metadata": {},
   "source": [
    "============================================================================================================"
   ]
  },
  {
   "cell_type": "markdown",
   "metadata": {},
   "source": [
    "Q92. The static member functions\t\n",
    "\n",
    "\n",
    "a)\tHaving access to all the members of the class.<br>\n",
    "b)\tHaving access to only constant members of a class.<br>\n",
    "c)\tHaving access to only the static members of a class.<br>\n",
    "d)\tHaving direct access to all other class members also\n"
   ]
  },
  {
   "cell_type": "markdown",
   "metadata": {},
   "source": [
    "**Ans : c)\tHaving access to only the static members of a class.**"
   ]
  },
  {
   "cell_type": "markdown",
   "metadata": {},
   "source": [
    "============================================================================================================"
   ]
  },
  {
   "cell_type": "markdown",
   "metadata": {},
   "source": [
    "Q93. Which is the correct syntax to access the static member functions\n",
    " \twith a class name?\n",
    "\n",
    "a) className . functionName; <br>\n",
    "b) className -> functionName; <br>\n",
    "c) className : functionName;<br>\n",
    "d) className :: functionName; \n"
   ]
  },
  {
   "cell_type": "markdown",
   "metadata": {},
   "source": [
    "**Ans : className . functionName;**"
   ]
  },
  {
   "cell_type": "markdown",
   "metadata": {},
   "source": [
    "============================================================================================================"
   ]
  },
  {
   "cell_type": "markdown",
   "metadata": {},
   "source": [
    "Q94. The static members are\t\n",
    "\n",
    "a) Created with each new object. <br>\n",
    "b) Created twice in the program. <br>\n",
    "c) Created as many times, the class is being used. <br>\n",
    "d) Created and initialised, only once\n"
   ]
  },
  {
   "cell_type": "markdown",
   "metadata": {},
   "source": [
    "**Ans : d) Created and initialised, only once**"
   ]
  },
  {
   "cell_type": "markdown",
   "metadata": {},
   "source": [
    "============================================================================================================"
   ]
  },
  {
   "cell_type": "markdown",
   "metadata": {},
   "source": [
    "Q95. Which among the following is true?\n",
    "\n",
    "a) Static member functions can be overloaded. <br> \n",
    "b) Static member functions can’t be overloaded. <br>\n",
    "c) Static member functions can be overloaded using the derived classes. <br>\n",
    "d) Static member functions are implicitly overloaded.\n"
   ]
  },
  {
   "cell_type": "markdown",
   "metadata": {},
   "source": [
    "**Ans :  b) Static member functions can’t be overloaded.**"
   ]
  },
  {
   "cell_type": "markdown",
   "metadata": {},
   "source": [
    "============================================================================================================"
   ]
  },
  {
   "cell_type": "markdown",
   "metadata": {},
   "source": [
    "Q96. The static member functions\t\n",
    "\n",
    "a) Can’t be declared const.<br>\n",
    "b) Can’t be declared volatile.<br>\n",
    "c)\tCan’t be declared const or volatile.<br>\n",
    "d)\tCan’t be declared const, volatile, or constant volatile.\n"
   ]
  },
  {
   "cell_type": "markdown",
   "metadata": {},
   "source": [
    "**Ans : d)\tCan’t be declared const, volatile, or constant volatile.**"
   ]
  },
  {
   "cell_type": "markdown",
   "metadata": {},
   "source": [
    "============================================================================================================"
   ]
  },
  {
   "cell_type": "markdown",
   "metadata": {},
   "source": [
    "Q97. Which among the following can’t be used to access the members in anyway?\n",
    "\n",
    "a) Scope resolution. <br>\n",
    "b) Arrow operator. <br>\n",
    "c) Single colon.<br>\n",
    "d) Dot operator.\n"
   ]
  },
  {
   "cell_type": "markdown",
   "metadata": {},
   "source": [
    "**Ans : Single colon**"
   ]
  },
  {
   "cell_type": "markdown",
   "metadata": {},
   "source": [
    "============================================================================================================"
   ]
  },
  {
   "cell_type": "markdown",
   "metadata": {},
   "source": [
    "Q98. If static data member are made inline,\t\n",
    "\n",
    "a) Those should be initialised outside of the class. <br>\n",
    "b) Those can’t be initialised with the class. <br>\n",
    "c) Those can be initialised within the class. <br>\n",
    "d) Class members can't use those.\n"
   ]
  },
  {
   "cell_type": "markdown",
   "metadata": {},
   "source": [
    "**Ans : ) Those can be initialised within the class.**"
   ]
  },
  {
   "cell_type": "markdown",
   "metadata": {},
   "source": [
    "============================================================================================================"
   ]
  },
  {
   "cell_type": "markdown",
   "metadata": {},
   "source": [
    "Q99. The static data member\t\n",
    "\n",
    "a) It can be mutable. <br>\n",
    "b) Can’t be mutable.<br>\n",
    "c) Can’t be an integer. <br>\n",
    "d) Can’t be characters.\n",
    "\n"
   ]
  },
  {
   "cell_type": "markdown",
   "metadata": {},
   "source": [
    "**Ans : Can’t be mutable.**"
   ]
  },
  {
   "cell_type": "markdown",
   "metadata": {},
   "source": [
    "============================================================================================================"
   ]
  },
  {
   "cell_type": "markdown",
   "metadata": {},
   "source": [
    "Q100. We can use the static member functions and static data member\n",
    " \t.\n",
    "\n",
    "a) Even if a class object is not created <br>\n",
    "b) Even if a class is not defined<br>\n",
    "c) Even if a class doesn’t contain any static member <br>\n",
    "d) Even if a class doesn’t have a complete definition\n"
   ]
  },
  {
   "cell_type": "markdown",
   "metadata": {},
   "source": [
    "**Ans : Even if a class object is not created**"
   ]
  },
  {
   "cell_type": "markdown",
   "metadata": {},
   "source": [
    "============================================================================================================"
   ]
  },
  {
   "cell_type": "markdown",
   "metadata": {},
   "source": [
    "Q101. Point out the wrong statement:\n",
    "\n",
    "a) ipython is an enhanced interactive python shell. <br>\n",
    "b) Matplotlib: It enables us to plot graphics.<br>\n",
    "c) rPy provides lots of scientific routines that work on top of NumPy.<br> \n",
    "d) all of the mentioned.\n"
   ]
  },
  {
   "cell_type": "markdown",
   "metadata": {},
   "source": [
    "**Ans : all of the mentioned.**"
   ]
  },
  {
   "cell_type": "markdown",
   "metadata": {},
   "source": [
    "============================================================================================================"
   ]
  },
  {
   "cell_type": "markdown",
   "metadata": {},
   "source": [
    "Q102. The ________ function returns its argument with the modified shape, whereas the ________ method modifies the array itself. \n",
    "\n",
    "a) reshape, resize. <br>\n",
    "b) resize, reshape. <br>\n",
    "c) reshape2,resize. <br>\n",
    "d) all of the mentioned."
   ]
  },
  {
   "cell_type": "markdown",
   "metadata": {},
   "source": [
    "**Ans : reshape, resize.**"
   ]
  },
  {
   "cell_type": "markdown",
   "metadata": {},
   "source": [
    "============================================================================================================"
   ]
  },
  {
   "cell_type": "markdown",
   "metadata": {},
   "source": [
    "Q103. To create sequences of the numbers, NumPy provides a function __________ analogous to range that returns arrays instead of lists.\n",
    "\n",
    "a) arrange. <br>\n",
    "b) aspace. <br> \n",
    "c) aline. <br>\n",
    "d) all of the mentioned."
   ]
  },
  {
   "cell_type": "markdown",
   "metadata": {},
   "source": [
    "**Ans : a) arrange**"
   ]
  },
  {
   "cell_type": "markdown",
   "metadata": {},
   "source": [
    "============================================================================================================"
   ]
  },
  {
   "cell_type": "markdown",
   "metadata": {},
   "source": [
    "Q104. Point out the correct statement: \n",
    "    \n",
    "a) NumPy main object is the Homogeneous -Multidimensional array. <br>\n",
    "b) In Numpy, dimensions are called axes.<br>\n",
    "c) Numpy array class is called ndarray. <br>\n",
    "d) All of the Mentioned <br>"
   ]
  },
  {
   "cell_type": "markdown",
   "metadata": {},
   "source": [
    "**Ans : d) All of the Mentioned**"
   ]
  },
  {
   "cell_type": "markdown",
   "metadata": {},
   "source": [
    "============================================================================================================"
   ]
  },
  {
   "cell_type": "markdown",
   "metadata": {},
   "source": [
    "Q105. Which of the following function stack 1D array as the\n",
    " \tcolumns into the 2D array?\n",
    "\n",
    "a)\trow_stack.<br>\n",
    "b)\tcolumn_stack. <br>\n",
    "c) com_stack. <br>\n",
    "d) all of the mentioned.\n"
   ]
  },
  {
   "cell_type": "markdown",
   "metadata": {},
   "source": [
    "**Ans : b)\tcolumn_stack.**"
   ]
  },
  {
   "cell_type": "markdown",
   "metadata": {},
   "source": [
    "============================================================================================================"
   ]
  },
  {
   "cell_type": "markdown",
   "metadata": {},
   "source": [
    "Q106. ndarray is also known as an alias array.\n",
    "\n",
    "a) True <br>\n",
    "b) False\n"
   ]
  },
  {
   "cell_type": "markdown",
   "metadata": {},
   "source": [
    "**Ans : a) True**"
   ]
  },
  {
   "cell_type": "markdown",
   "metadata": {},
   "source": [
    "============================================================================================================"
   ]
  },
  {
   "cell_type": "markdown",
   "metadata": {},
   "source": [
    "Q107. Which of the following method creates the new array object that looks at the same data?\n",
    "\n",
    "a)\tview.<br>\n",
    "b)\tcopy.<br>\n",
    "c)\tpaste.<br>\n",
    "d)\tall of the mentioned\n"
   ]
  },
  {
   "cell_type": "markdown",
   "metadata": {},
   "source": [
    "**Ans : a)\tview.**"
   ]
  },
  {
   "cell_type": "markdown",
   "metadata": {},
   "source": [
    "============================================================================================================"
   ]
  },
  {
   "cell_type": "markdown",
   "metadata": {},
   "source": [
    "Q108. Which of the functions can be used to combine the\n",
    " \tdifferent vectors to obtain the result for each n-uplet?\n",
    "\n",
    "a) iid_.<br> \n",
    "b) ix_. <br>\n",
    "c) ixd_.<br>\n",
    "d) all of the mentioned.\n"
   ]
  },
  {
   "cell_type": "markdown",
   "metadata": {},
   "source": [
    "**Ans : b) ix_.** "
   ]
  },
  {
   "cell_type": "markdown",
   "metadata": {},
   "source": [
    "============================================================================================================"
   ]
  },
  {
   "cell_type": "markdown",
   "metadata": {},
   "source": [
    "Q109. ndarray.dataitemSize is the buffer containing actual\telements\n",
    " \tof an array.\n",
    "\n",
    "a) True <br>\n",
    "b) False\n"
   ]
  },
  {
   "cell_type": "markdown",
   "metadata": {},
   "source": [
    "**Ans : a) True**"
   ]
  },
  {
   "cell_type": "markdown",
   "metadata": {},
   "source": [
    "============================================================================================================"
   ]
  },
  {
   "cell_type": "markdown",
   "metadata": {},
   "source": [
    "Q110. Which of the following is in the NumPy library?\n",
    "\n",
    "a)\tThe n-dimensional array object<br>\n",
    "b)\tThe tools for integrating C/C++ and the Fortran code<br> \n",
    "c) Fourier transform<br>\n",
    "d) all of the Mentioned\n"
   ]
  },
  {
   "cell_type": "markdown",
   "metadata": {},
   "source": [
    "**Ans : d) all of the Mentioned**"
   ]
  },
  {
   "cell_type": "markdown",
   "metadata": {},
   "source": [
    "============================================================================================================"
   ]
  },
  {
   "cell_type": "markdown",
   "metadata": {},
   "source": [
    "Q111. Which of the following sets the size of the buffer used in ufuncs ?\n",
    "\n",
    "a) bufsize(size) <br>\n",
    "b) setsize(size)<br>\n",
    "c)\tsetbufsize(size)<br>\n",
    "d)\tall of the Mentioned\n"
   ]
  },
  {
   "cell_type": "markdown",
   "metadata": {},
   "source": [
    "**Ans : c)\tsetbufsize(size)**"
   ]
  },
  {
   "cell_type": "markdown",
   "metadata": {},
   "source": [
    "============================================================================================================"
   ]
  },
  {
   "cell_type": "markdown",
   "metadata": {},
   "source": [
    "Q112. Point out the wrong statement:\n",
    "\n",
    "a)\tA universal function is the function that operates upon the “ndarrays” in an element-by-element fashion<br>\n",
    "b)\tIn Numpy, universal functions are the instances of numpy.ufunction class <br>\n",
    "c) Many of the built-in functions are implemented in compiled C code<br>\n",
    "d) All of the Mentioned\n"
   ]
  },
  {
   "cell_type": "markdown",
   "metadata": {},
   "source": [
    "**Ans : b)\tIn Numpy, universal functions are the instances of numpy.ufunction class c**"
   ]
  },
  {
   "cell_type": "markdown",
   "metadata": {},
   "source": [
    "============================================================================================================"
   ]
  },
  {
   "cell_type": "markdown",
   "metadata": {},
   "source": [
    "Q113. Which of the following attribute should be used while checking the type combination input and output?\n",
    "\n",
    "a) .types <br>\n",
    "b) .type <br>\n",
    "c) .class <br>\n",
    "d) all of the Mentioned\n"
   ]
  },
  {
   "cell_type": "markdown",
   "metadata": {},
   "source": [
    "**Ans : a) .types**"
   ]
  },
  {
   "cell_type": "markdown",
   "metadata": {},
   "source": [
    "============================================================================================================"
   ]
  },
  {
   "cell_type": "markdown",
   "metadata": {},
   "source": [
    "Q114. Which of the following returns an array of “ones” with the same shape and type as a given array?\n",
    "\n",
    "a) all_like <br>\n",
    "b) ones_like <br>\n",
    "c) one_alike<br>\n",
    "d) all of the Mentioned\n"
   ]
  },
  {
   "cell_type": "markdown",
   "metadata": {},
   "source": [
    "**Ans : b) ones_like**"
   ]
  },
  {
   "cell_type": "markdown",
   "metadata": {},
   "source": [
    "============================================================================================================"
   ]
  },
  {
   "cell_type": "markdown",
   "metadata": {},
   "source": [
    "Q115. Point out the wrong statement:\n",
    "\n",
    "a) Each universal function takes an array input and produces array outputs <br>\n",
    "b) Broadcasting is used throughout NumPy to decide how to handle the disparately shaped arrays<br>\n",
    "c) The output of the ufunc is necessarily a ndarray, if all the input arguments are ndarrays <br>\n",
    "d) All of the Mentioned"
   ]
  },
  {
   "cell_type": "markdown",
   "metadata": {},
   "source": [
    "**Ans : c)\tThe output of the ufunc is necessarily a ndarray, if all the input arguments are ndarrays**"
   ]
  },
  {
   "cell_type": "markdown",
   "metadata": {},
   "source": [
    "============================================================================================================"
   ]
  },
  {
   "cell_type": "markdown",
   "metadata": {},
   "source": [
    "Q116. Which of the following set of a floating-point error callback\n",
    " \tfunction or a log object?\n",
    "\n",
    "\n",
    "a)\tsetter. <br>\n",
    "b)\tsettercall. <br>\n",
    "c) setterstack. <br>\n",
    "d) all of the mentioned.\n"
   ]
  },
  {
   "cell_type": "markdown",
   "metadata": {},
   "source": [
    "**Ans : b)\tsettercall.**"
   ]
  },
  {
   "cell_type": "markdown",
   "metadata": {},
   "source": [
    "============================================================================================================"
   ]
  },
  {
   "cell_type": "markdown",
   "metadata": {},
   "source": [
    "Q117. Some ufuncs can take output arguments.\n",
    "\n",
    "a) True <br>\n",
    "b) False\n"
   ]
  },
  {
   "cell_type": "markdown",
   "metadata": {},
   "source": [
    "**Ans : b) False**"
   ]
  },
  {
   "cell_type": "markdown",
   "metadata": {},
   "source": [
    "============================================================================================================"
   ]
  },
  {
   "cell_type": "markdown",
   "metadata": {},
   "source": [
    "Q118. ___________ decompose the elements of x into the mantissa and the two’s exponent. \n",
    "\n",
    "a) trunc<br>\n",
    "b) fmod <br>\n",
    "c) frexp <br>\n",
    "d) ldexp"
   ]
  },
  {
   "cell_type": "markdown",
   "metadata": {},
   "source": [
    "**Ans : c) frexp**"
   ]
  },
  {
   "cell_type": "markdown",
   "metadata": {},
   "source": [
    "============================================================================================================"
   ]
  },
  {
   "cell_type": "markdown",
   "metadata": {},
   "source": [
    "Q119. Which of the following function take the only a single value as input?\n",
    "\n",
    "a) iscomplex. <br>\n",
    "b) minimum. <br>\n",
    "c) fmin.<br>\n",
    "d) all of the mentioned.\n"
   ]
  },
  {
   "cell_type": "markdown",
   "metadata": {},
   "source": [
    "**Ans : a) iscomplex.**"
   ]
  },
  {
   "cell_type": "markdown",
   "metadata": {},
   "source": [
    "============================================================================================================"
   ]
  },
  {
   "cell_type": "markdown",
   "metadata": {},
   "source": [
    "Q120. The array object returned by the _array_prepare_ is passed to ufunc for computation.\n",
    "\n",
    "a) True <br>\n",
    "b) False\n"
   ]
  },
  {
   "cell_type": "markdown",
   "metadata": {},
   "source": [
    "**Ans : a) True**"
   ]
  },
  {
   "cell_type": "markdown",
   "metadata": {},
   "source": [
    "============================================================================================================"
   ]
  },
  {
   "cell_type": "markdown",
   "metadata": {},
   "source": [
    "Q121. All pandas data structures are ___mutable but not always _______-mutable. \n",
    "\n",
    "a) size,value. <br>\n",
    "b) semantic,size. <br>\n",
    "c) value,size. <br>\n",
    "d) none of the mentioned."
   ]
  },
  {
   "cell_type": "markdown",
   "metadata": {},
   "source": [
    "**Ans : c) value,size.**"
   ]
  },
  {
   "cell_type": "markdown",
   "metadata": {},
   "source": [
    "============================================================================================================"
   ]
  },
  {
   "cell_type": "markdown",
   "metadata": {},
   "source": [
    "Q122. Point out the correct statement:\n",
    "\n",
    "a)\tPandas consist of a set of the labelled array data structures<br>\n",
    "b)\tPandas consist of an integrated group by the engine for aggregating and the transforming data sets<br>\n",
    "c)\tPandas consist of moving window statistics <br>\n",
    "d) All of the above mentioned.\n"
   ]
  },
  {
   "cell_type": "markdown",
   "metadata": {},
   "source": [
    "**Ans : d) All of the above mentioned.**"
   ]
  },
  {
   "cell_type": "markdown",
   "metadata": {},
   "source": [
    "============================================================================================================"
   ]
  },
  {
   "cell_type": "markdown",
   "metadata": {},
   "source": [
    "Q123. Which of the following statement will import the pandas?\n",
    "\n",
    "a) import pandas as pd <br>\n",
    "b) import panda as py<br>\n",
    "c) import pandaspy as pd <br>\n",
    "d) all of the Mentioned\n"
   ]
  },
  {
   "cell_type": "markdown",
   "metadata": {},
   "source": [
    "**Ans : a) import pandas as pd**"
   ]
  },
  {
   "cell_type": "markdown",
   "metadata": {},
   "source": [
    "============================================================================================================"
   ]
  },
  {
   "cell_type": "markdown",
   "metadata": {},
   "source": [
    "Q124. Which of the following object did we get after reading the CSV file?\n",
    "\n",
    "a)\tDataFrame.<br>\n",
    "b)\tCharacter Vector. <br>\n",
    "c) Panel.<br>\n",
    "d) All of the Mentioned\n"
   ]
  },
  {
   "cell_type": "markdown",
   "metadata": {},
   "source": [
    "**Ans : a)\tDataFrame.**"
   ]
  },
  {
   "cell_type": "markdown",
   "metadata": {},
   "source": [
    "============================================================================================================"
   ]
  },
  {
   "cell_type": "markdown",
   "metadata": {},
   "source": [
    "Q125. Point out the wrong statement:\n",
    "\n",
    "a)\tSeries is 1D labelled homogeneously-typed array.<br>\n",
    "b)\tDataFrame is a general 2D labelled, size-mutable tabular structure with the potentially heterogeneously-typed columns.<br>\n",
    "c)\tThe panel is generally 2D labelled, also a size-mutable array. <br>\n",
    "d) None of the Mentioned.\n"
   ]
  },
  {
   "cell_type": "markdown",
   "metadata": {},
   "source": [
    "**Ans : c)\tThe panel is generally 2D labelled, also a size-mutable array.**"
   ]
  },
  {
   "cell_type": "markdown",
   "metadata": {},
   "source": [
    "============================================================================================================"
   ]
  },
  {
   "cell_type": "markdown",
   "metadata": {},
   "source": [
    "Q126. Which of the following library is similar to the pandas?\n",
    "\n",
    "a) numpy. <br>\n",
    "b) RPy. <br>\n",
    "c) OutPy.<br>\n",
    "d) None of the mentioned.\n"
   ]
  },
  {
   "cell_type": "markdown",
   "metadata": {},
   "source": [
    "**Ans : a) numpy.**"
   ]
  },
  {
   "cell_type": "markdown",
   "metadata": {},
   "source": [
    "============================================================================================================"
   ]
  },
  {
   "cell_type": "markdown",
   "metadata": {},
   "source": [
    "Q127. Panel is a container for the Series, and DataFrame is a\n",
    " \tcontainer for DataFrame objects.\n",
    "\n",
    "a) True <br>\n",
    "b) False\n"
   ]
  },
  {
   "cell_type": "markdown",
   "metadata": {},
   "source": [
    "**Ans : b) False**"
   ]
  },
  {
   "cell_type": "markdown",
   "metadata": {},
   "source": [
    "============================================================================================================"
   ]
  },
  {
   "cell_type": "markdown",
   "metadata": {},
   "source": [
    "Q128. Which of the following is the prominent python “statistics and\n",
    " econometrics library”?\n",
    "\n",
    "a) Bokeh. <br>\n",
    "b) Seaborn.<br>\n",
    "c)\tStatsmodels.<br>\n",
    "d)\tNone of the mentioned\n"
   ]
  },
  {
   "cell_type": "markdown",
   "metadata": {},
   "source": [
    "**Ans : c)\tStatsmodels.**"
   ]
  },
  {
   "cell_type": "markdown",
   "metadata": {},
   "source": [
    "============================================================================================================"
   ]
  },
  {
   "cell_type": "markdown",
   "metadata": {},
   "source": [
    "Q129. Which of the following is the foundational exploratory visualisation package for the R language in the pandas ecosystem?\n",
    "\n",
    "a)\tyhat.<br>\n",
    "b)\tSeaborn. <br>\n",
    "c) Vincent.<br>\n",
    "d) None of the mentioned.\n"
   ]
  },
  {
   "cell_type": "markdown",
   "metadata": {},
   "source": [
    "**Ans : a)\tyhat.**"
   ]
  },
  {
   "cell_type": "markdown",
   "metadata": {},
   "source": [
    "============================================================================================================"
   ]
  },
  {
   "cell_type": "markdown",
   "metadata": {},
   "source": [
    "Q130. Pandas consist of static and the moving window linear and panel regression.\n",
    "\n",
    "a) True <br>\n",
    "b) False\n"
   ]
  },
  {
   "cell_type": "markdown",
   "metadata": {},
   "source": [
    "**Ans : a) True**"
   ]
  },
  {
   "cell_type": "markdown",
   "metadata": {},
   "source": [
    "============================================================================================================"
   ]
  },
  {
   "cell_type": "markdown",
   "metadata": {},
   "source": [
    "Q131. Quandl API for Python wraps the __ REST API to returns the pandas DataFrames with time series indexes. \n",
    "\n",
    "a) Quandl. <br>\n",
    "b) PyDatastream. <br>\n",
    "c) PyData. <br>\n",
    "d) None of the Mentioned."
   ]
  },
  {
   "cell_type": "markdown",
   "metadata": {},
   "source": [
    "**Ans : a)\tQuandl.**"
   ]
  },
  {
   "cell_type": "markdown",
   "metadata": {},
   "source": [
    "============================================================================================================"
   ]
  },
  {
   "cell_type": "markdown",
   "metadata": {},
   "source": [
    "Q132. Point out the correct statement:\n",
    "\n",
    "a)\tStatsmodels provides powerful statistics, econometrics, analysis and the modelling functionality which is out of pandas’ scope<br>\n",
    "b)\tVintage leverages pandas objects as an underlying data container for the computation<br>\n",
    "c)\tBokeh is a Python interactive visualisation library for the small datasets <br>\n",
    "d) All of the Mentioned\n"
   ]
  },
  {
   "cell_type": "markdown",
   "metadata": {},
   "source": [
    "**Ans : a)\tStatsmodels provides powerful statistics, econometrics, analysis and the modelling functionality which is out of pandas’ scope**"
   ]
  },
  {
   "cell_type": "markdown",
   "metadata": {},
   "source": [
    "============================================================================================================"
   ]
  },
  {
   "cell_type": "markdown",
   "metadata": {},
   "source": [
    "Q133.Which of the following library is used to retrieve and to acquire\n",
    " \tstatistical data and metadata disseminated in SDMX 2.1?\n",
    "\n",
    "a) pandaSDMX <br>\n",
    "b) freedapi<br>\n",
    "c)\tGeopandas.<br>\n",
    "d)\tAll of the Mentioned.\n"
   ]
  },
  {
   "cell_type": "markdown",
   "metadata": {},
   "source": [
    "**Ans : a) pandaSDMX**"
   ]
  },
  {
   "cell_type": "markdown",
   "metadata": {},
   "source": [
    "============================================================================================================"
   ]
  },
  {
   "cell_type": "markdown",
   "metadata": {},
   "source": [
    "Q134. Which of the following provides the standard API for doing\n",
    " \tcomputations with MongoDB?\n",
    "\n",
    "a)\tBlaze.<br>\n",
    "b)\tGeopandas. <br>\n",
    "c) FRED.<br>\n",
    "d) All of the Mentioned\n"
   ]
  },
  {
   "cell_type": "markdown",
   "metadata": {},
   "source": [
    "**Ans : a)\tBlaze.**"
   ]
  },
  {
   "cell_type": "markdown",
   "metadata": {},
   "source": [
    "============================================================================================================"
   ]
  },
  {
   "cell_type": "markdown",
   "metadata": {},
   "source": [
    "Q135. Point out the wrong statement: \n",
    "    \n",
    "    a) qgrid is an interactive grid for sorting and the filtering DataFrames <br>\n",
    "    b) Pandas DataFrames implement _repr_html_ methods which are utilised by the IPython Notebook<br>\n",
    "    c) Spyder is a cross-platform Qt-based open-source R IDE <br>\n",
    "    d) None of the Mentioned"
   ]
  },
  {
   "cell_type": "markdown",
   "metadata": {},
   "source": [
    "**Ans : c)\tSpyder is a cross-platform Qt-based open-source R IDE**"
   ]
  },
  {
   "cell_type": "markdown",
   "metadata": {},
   "source": [
    "============================================================================================================"
   ]
  },
  {
   "cell_type": "markdown",
   "metadata": {},
   "source": [
    "Q136. Which of the following makes use of the pandas and returns\n",
    " \tdata in a Series or DataFrame?\n",
    "\n",
    "a) pandaSDMX. <br>\n",
    "b) freedapi.<br>\n",
    "c)\tOutPy.<br>\n",
    "d)\tnone of the mentioned.\n"
   ]
  },
  {
   "cell_type": "markdown",
   "metadata": {},
   "source": [
    "**Ans : b) freedapi.**"
   ]
  },
  {
   "cell_type": "markdown",
   "metadata": {},
   "source": [
    "============================================================================================================"
   ]
  },
  {
   "cell_type": "markdown",
   "metadata": {},
   "source": [
    "Q137. Spyder can introspect and display Pandas DataFrames.\n",
    "\n",
    "a) True <br>\n",
    "b) False\n"
   ]
  },
  {
   "cell_type": "markdown",
   "metadata": {},
   "source": [
    "**Ans :b) False**"
   ]
  },
  {
   "cell_type": "markdown",
   "metadata": {},
   "source": [
    "============================================================================================================"
   ]
  },
  {
   "cell_type": "markdown",
   "metadata": {},
   "source": [
    "Q138. Which of the following is used for machine learning in the python?\n",
    "\n",
    "a) sci-kit-learn. <br>\n",
    "b) seaborn-learn. <br>\n",
    "c) stats-learn.<br>\n",
    "d) none of the mentioned.\n"
   ]
  },
  {
   "cell_type": "markdown",
   "metadata": {},
   "source": [
    "**Ans : a) sci-kit-learn.**"
   ]
  },
  {
   "cell_type": "markdown",
   "metadata": {},
   "source": [
    "============================================================================================================"
   ]
  },
  {
   "cell_type": "markdown",
   "metadata": {},
   "source": [
    "Q139. The ________ project builds on top of the pandas and matplotlib to provide easy plotting of data. \n",
    "\n",
    "a) yhat. <br>\n",
    "b) Seaborn. <br>\n",
    "c) Vincent. <br>\n",
    "d) None of the mentioned."
   ]
  },
  {
   "cell_type": "markdown",
   "metadata": {},
   "source": [
    "**Ans : b)\tSeaborn.**"
   ]
  },
  {
   "cell_type": "markdown",
   "metadata": {},
   "source": [
    "============================================================================================================"
   ]
  },
  {
   "cell_type": "markdown",
   "metadata": {},
   "source": [
    "Q140 x-ray brings the labelled data power of pandas to the physical sciences.\n",
    "\n",
    "a) True <br>\n",
    "b) False\n"
   ]
  },
  {
   "cell_type": "markdown",
   "metadata": {},
   "source": [
    "**Ans : a) True**"
   ]
  },
  {
   "cell_type": "markdown",
   "metadata": {},
   "source": [
    "============================================================================================================"
   ]
  },
  {
   "cell_type": "markdown",
   "metadata": {},
   "source": [
    "Q141. Which of the following is the base layer of all of the sparse\n",
    " \thas it indexed data structures?\n",
    "\n",
    "a)\tSArray.<br>\n",
    "b)\tSparseArray. <br>\n",
    "c) PyArray.<br>\n",
    "d) None of the mentioned.\n"
   ]
  },
  {
   "cell_type": "markdown",
   "metadata": {},
   "source": [
    "**Ans : b)\tSparseArray.**"
   ]
  },
  {
   "cell_type": "markdown",
   "metadata": {},
   "source": [
    "============================================================================================================"
   ]
  },
  {
   "cell_type": "markdown",
   "metadata": {},
   "source": [
    "Q142. Point out the correct statement.\n",
    "\n",
    "a)\tAll of the standard pandas data structures have to_sparse method<br>\n",
    "b)\tAny sparse object can be converted back to the standard dense form by calling the to_dense<br>\n",
    "c)\tThe sparse objects exist for memory efficiency reasons. <br>\n",
    "d) All of the mentioned.\n"
   ]
  },
  {
   "cell_type": "markdown",
   "metadata": {},
   "source": [
    "**Ans : d) All of the mentioned.**"
   ]
  },
  {
   "cell_type": "markdown",
   "metadata": {},
   "source": [
    "============================================================================================================"
   ]
  },
  {
   "cell_type": "markdown",
   "metadata": {},
   "source": [
    "Q143. Which of the following is not an indexed object?\n",
    "\n",
    "a)\tSparseSeries.<br>\n",
    "b)\tSparseDataFrame. <br>\n",
    "c) SparsePanel.<br>\n",
    "d) None of the mentioned.\n"
   ]
  },
  {
   "cell_type": "markdown",
   "metadata": {},
   "source": [
    "**Ans : d) None of the mentioned.**"
   ]
  },
  {
   "cell_type": "markdown",
   "metadata": {},
   "source": [
    "============================================================================================================"
   ]
  },
  {
   "cell_type": "markdown",
   "metadata": {},
   "source": [
    "Q144. Which of the following list like data structure is used for managing the dynamic collection of SparseArrays?\n",
    "\n",
    "a) SparseList. <br>\n",
    "b) GeoList.<br>\n",
    "c)\tSparseSeries.<br>\n",
    "d)\tAll of the mentioned.\n"
   ]
  },
  {
   "cell_type": "markdown",
   "metadata": {},
   "source": [
    "**Ans : a) SparseList.**"
   ]
  },
  {
   "cell_type": "markdown",
   "metadata": {},
   "source": [
    "============================================================================================================"
   ]
  },
  {
   "cell_type": "markdown",
   "metadata": {},
   "source": [
    "Q145. Point out the wrong statement.\n",
    "\n",
    "a) to_array. append can accept scalar values or any 2-D sequence. <br>\n",
    "b) Two kinds of SparseIndex are implemented.<br>\n",
    "c)\tThe integer format keeps an arrays of all locations, where the data are not equal to the fill value.<br>\n",
    "d)\tNone of the mentioned.\n"
   ]
  },
  {
   "cell_type": "markdown",
   "metadata": {},
   "source": [
    "**Ans : a) to_array. append can accept scalar values or any 2-D sequence.**"
   ]
  },
  {
   "cell_type": "markdown",
   "metadata": {},
   "source": [
    "============================================================================================================"
   ]
  },
  {
   "cell_type": "markdown",
   "metadata": {},
   "source": [
    "Q146. Which of the following method used for transforming the\n",
    " \tSparse-series index by the MultiIndex to a\n",
    " \tscipy.sparse.coo_matrix?\n",
    "\n",
    "a) SparseSeries.to_coo(). <br>\n",
    "b) Series.to_coo().<br>\n",
    "c) SparseSeries.to_cooser().<br>\n",
    "d) None of the mentioned.\n"
   ]
  },
  {
   "cell_type": "markdown",
   "metadata": {},
   "source": [
    "**Ans : a) SparseSeries.to_coo().**"
   ]
  },
  {
   "cell_type": "markdown",
   "metadata": {},
   "source": [
    "============================================================================================================"
   ]
  },
  {
   "cell_type": "markdown",
   "metadata": {},
   "source": [
    "Q147. The integer format tracks only the locations and the sizes of\n",
    " \tblocks of data.\n",
    "\n",
    "a) True <br>\n",
    "b) False\n"
   ]
  },
  {
   "cell_type": "markdown",
   "metadata": {},
   "source": [
    "**Ans : b) False**"
   ]
  },
  {
   "cell_type": "markdown",
   "metadata": {},
   "source": [
    "============================================================================================================"
   ]
  },
  {
   "cell_type": "markdown",
   "metadata": {},
   "source": [
    "Q148. Which of the following is used for the testing for membership in\n",
    " \tthe list of column names?\n",
    "\n",
    "a)\tin.<br>\n",
    "b)\tout.<br>\n",
    "c)\telse if.<br>\n",
    "d)\tnone of the mentioned.\n"
   ]
  },
  {
   "cell_type": "markdown",
   "metadata": {},
   "source": [
    "**Ans : a)\tin.**"
   ]
  },
  {
   "cell_type": "markdown",
   "metadata": {},
   "source": [
    "============================================================================================================"
   ]
  },
  {
   "cell_type": "markdown",
   "metadata": {},
   "source": [
    "Q149. Which of the following indexing capabilities is used as the concise means of selecting data from a pandas object?\n",
    "\n",
    "a)\tIn.<br>\n",
    "b)\tix.<br>\n",
    "c)\tipy.<br>\n",
    "d)\tnone of the mentioned.\n"
   ]
  },
  {
   "cell_type": "markdown",
   "metadata": {},
   "source": [
    "**Ans : b)\tix.**"
   ]
  },
  {
   "cell_type": "markdown",
   "metadata": {},
   "source": [
    "============================================================================================================"
   ]
  },
  {
   "cell_type": "markdown",
   "metadata": {},
   "source": [
    "Q150. Pandas follow the NumPy convention of raising an error when you try to convert something to a bool.\n",
    "\n",
    "a) True <br>\n",
    "b) False\n"
   ]
  },
  {
   "cell_type": "markdown",
   "metadata": {},
   "source": [
    "**Ans : a) True**"
   ]
  },
  {
   "cell_type": "markdown",
   "metadata": {},
   "source": [
    "============================================================================================================"
   ]
  },
  {
   "cell_type": "code",
   "execution_count": null,
   "metadata": {},
   "outputs": [],
   "source": []
  }
 ],
 "metadata": {
  "kernelspec": {
   "display_name": "Python 3",
   "language": "python",
   "name": "python3"
  },
  "language_info": {
   "codemirror_mode": {
    "name": "ipython",
    "version": 3
   },
   "file_extension": ".py",
   "mimetype": "text/x-python",
   "name": "python",
   "nbconvert_exporter": "python",
   "pygments_lexer": "ipython3",
   "version": "3.7.3"
  }
 },
 "nbformat": 4,
 "nbformat_minor": 2
}
